{
 "cells": [
  {
   "cell_type": "code",
   "execution_count": 1,
   "metadata": {},
   "outputs": [],
   "source": [
    "#include <iostream>\n",
    "#include <string>\n",
    "#include <stdio.h>"
   ]
  },
  {
   "cell_type": "code",
   "execution_count": 2,
   "metadata": {},
   "outputs": [],
   "source": [
    "%jsroot on"
   ]
  },
  {
   "cell_type": "code",
   "execution_count": 3,
   "metadata": {},
   "outputs": [],
   "source": [
    "TChain *data = new TChain(\"mini\"); "
   ]
  },
  {
   "cell_type": "code",
   "execution_count": 4,
   "metadata": {},
   "outputs": [],
   "source": [
    "data->Add(\"DataSamples/Data/DataEgamma.root\"); \n",
    "data->Add(\"DataSamples/Data/DataMuons.root\"); "
   ]
  },
  {
   "cell_type": "code",
   "execution_count": 5,
   "metadata": {},
   "outputs": [],
   "source": [
    "int entries = (Int_t)data->GetEntries(); "
   ]
  },
  {
   "cell_type": "code",
   "execution_count": 6,
   "metadata": {},
   "outputs": [],
   "source": [
    "Float_t lep_pt[5]; \n",
    "UInt_t lep_n; "
   ]
  },
  {
   "cell_type": "code",
   "execution_count": 7,
   "metadata": {},
   "outputs": [],
   "source": [
    "data->SetBranchAddress(\"lep_pt\", &lep_pt); \n",
    "data->SetBranchAddress(\"lep_n\", &lep_n); "
   ]
  },
  {
   "cell_type": "code",
   "execution_count": 14,
   "metadata": {},
   "outputs": [
    {
     "name": "stdout",
     "output_type": "stream",
     "text": [
      "30983.6\n",
      "5182.23\n"
     ]
    }
   ],
   "source": [
    "data->GetEntry(81); \n",
    "cout << lep_pt[0] << endl; \n",
    "cout << lep_pt[1] << endl; "
   ]
  },
  {
   "cell_type": "code",
   "execution_count": null,
   "metadata": {},
   "outputs": [],
   "source": [
    "for(int i = 0; i<1000; i++){\n",
    "    data->GetEntry(i); \n",
    "    //do something with the data\n",
    "    if(lep_n > 1){ \n",
    "        cout << \"More than one lepton!  \" << i << endl; \n",
    "        cout << lep_pt[0] << \"  \" << lep_pt[1] << endl; \n",
    "    }   \n",
    "}"
   ]
  },
  {
   "cell_type": "code",
   "execution_count": null,
   "metadata": {},
   "outputs": [],
   "source": []
  }
 ],
 "metadata": {
  "kernelspec": {
   "display_name": "ROOT C++",
   "language": "c++",
   "name": "root"
  },
  "language_info": {
   "codemirror_mode": "text/x-c++src",
   "file_extension": ".C",
   "mimetype": " text/x-c++src",
   "name": "c++"
  }
 },
 "nbformat": 4,
 "nbformat_minor": 2
}
