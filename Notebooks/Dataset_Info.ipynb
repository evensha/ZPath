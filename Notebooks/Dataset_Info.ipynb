{
 "cells": [
  {
   "cell_type": "markdown",
   "metadata": {},
   "source": [
    "# About the dataset \n",
    "In the following you can find some practical information about the dataset from ATLAS Open Data, which can be useful when doing analysis. The dataset can be found [here](http://opendata.atlas.cern/extendedanalysis/datasets.php).  "
   ]
  },
  {
   "cell_type": "markdown",
   "metadata": {},
   "source": [
    "## Content and data types"
   ]
  },
  {
   "cell_type": "markdown",
   "metadata": {},
   "source": [
    "The dataset contains two folders, one called **Data** (containing real data from the ATLAS detector) and one called **MC** (containing Monte Carlo simulated data). The MC files can be divided into two categories; signal and background. The background files are simulations based on Standard Model processes, while the signal files are simulations of possible *new physics* scenarios. (Only Z' signal samples are available as Open Data.) All files in the dataset are listed in the following. (Notice that the Higgs samples are listed as \"background\", but if you are doing a Higgs-analysis these should be used as \"signal\".) "
   ]
  },
  {
   "cell_type": "markdown",
   "metadata": {},
   "source": [
    "#### Data samples\n",
    "> \n",
    "DataEgamma.root <br>\n",
    "DataMuons.root"
   ]
  },
  {
   "cell_type": "markdown",
   "metadata": {},
   "source": [
    "#### MC background samples \n",
    "> \n",
    "mc_105985.WW.root                 \n",
    "mc_105986.ZZ.root                   \n",
    "mc_105987.WZ.root     \n",
    "mc_110090.stop_tchan_top.root     \n",
    "mc_110091.stop_tchan_antitop.root  \n",
    "mc_110119.stop_schan.root          \n",
    "mc_110140.stop_wtchan.root                  \n",
    "mc_117049.ttbar_had.root            \n",
    "mc_117050.ttbar_lep.root            \n",
    "mc_147770.Zee.root                  \n",
    "mc_147771.Zmumu.root               \n",
    "mc_147772.Ztautau.root   \n",
    "mc_160155.ggH125_ZZ4lep.root        \n",
    "mc_160205.VBFH125_ZZ4lep.root       \n",
    "mc_161005.ggH125_WW2lep.root        \n",
    "mc_161055.VBFH125_WW2lep.root   \n",
    "mc_167740.WenuWithB.root            \n",
    "mc_167741.WenuJetsBVeto.root       \n",
    "mc_167742.WenuNoJetsBVeto.root      \n",
    "mc_167743.WmunuWithB.root           \n",
    "mc_167744.WmunuJetsBVeto.root       \n",
    "mc_167745.WmunuNoJetsBVeto.root     \n",
    "mc_167746.WtaunuWithB.root          \n",
    "mc_167747.WtaunuJetsBVeto.root      \n",
    "mc_167748.WtaunuNoJetsBVeto.root    \n",
    "mc_173041.DYeeM08to15.root          \n",
    "mc_173042.DYeeM15to40.root         \n",
    "mc_173043.DYmumuM08to15.root        \n",
    "mc_173044.DYmumuM15to40.root        \n",
    "mc_173045.DYtautauM08to15.root      \n",
    "mc_173046.DYtautauM15to40.root   "
   ]
  },
  {
   "cell_type": "markdown",
   "metadata": {},
   "source": [
    "#### MC signal samples\n",
    ">  \n",
    "mc_110899.ZPrime400.root            \n",
    "mc_110901.ZPrime500.root            \n",
    "mc_110902.ZPrime750.root            \n",
    "mc_110903.ZPrime1000.root           \n",
    "mc_110904.ZPrime1250.root           \n",
    "mc_110905.ZPrime1500.root           \n",
    "mc_110906.ZPrime1750.root           \n",
    "mc_110907.ZPrime2000.root           \n",
    "mc_110908.ZPrime2250.root           \n",
    "mc_110909.ZPrime2500.root           \n",
    "mc_110910.ZPrime3000.root   "
   ]
  },
  {
   "cell_type": "markdown",
   "metadata": {},
   "source": [
    "## File structure"
   ]
  },
  {
   "cell_type": "markdown",
   "metadata": {},
   "source": [
    "All of the ROOT files listed above contain a so-called [TTree](https://root.cern.ch/doc/master/classTTree.html) called \"mini\", which for each file contains a certain number of events. The TTree again consists of a number of branches, corresponding to different variables. When doing an analysis we want to loop through events, pick out the ones we find interesting, and make histograms of the resulting \"event selection\". "
   ]
  },
  {
   "cell_type": "markdown",
   "metadata": {},
   "source": [
    "If you want a closer look on the files you can open the TBrowser in ROOT by\n",
    "> *new TBrowser();* \n",
    "\n",
    "and then click away on the files and the variables inside the TTree. "
   ]
  },
  {
   "cell_type": "markdown",
   "metadata": {},
   "source": [
    "All variables in the TTree are listed below. \n",
    "> \n",
    "runNumber <br>\n",
    "eventNumber <br>\n",
    "channelNumber <br>\n",
    "mcWeigth <br>\n",
    "pvxp_n <br>\n",
    "vxp_z <br>\n",
    "scaleFactor_PILEUP <br>\n",
    "scaleFactor_ELE <br>\n",
    "scaleFactor_MUON <br>\n",
    "scaleFactor_BTAG <br>\n",
    "scaleFactor_TRIGGER <br>\n",
    "scaleFactor_JVFSF <br>\n",
    "scaleFactor_ZVERTEX <br>\n",
    "trigE <br>\n",
    "trigM <br>\n",
    "passGRL <br>\n",
    "hasGoodVertex <br>\n",
    "lep_n <br>\n",
    "lep_truthMatched <br>\n",
    "lep_trigMatched <br>\n",
    "lep_pt <br>\n",
    "lep_eta <br>\n",
    "lep_phi <br>\n",
    "lep_E <br>\n",
    "lep_z0 <br>\n",
    "lep_charge <br>\n",
    "lep_type <br>\n",
    "lep_flag <br>\n",
    "lep_ptcone30 <br>\n",
    "lep_etcone20 <br>\n",
    "lep_track0pvunbiased <br>\n",
    "lep_tracksigd0pvunbiased <br>\n",
    "met_et <br>\n",
    "met_phi <br>\n",
    "jet_n <br>\n",
    "alljet_n <br>\n",
    "jet_pt <br>\n",
    "jet_eta <br>\n",
    "jet_phi <br>\n",
    "jet_E <br>\n",
    "jet_m <br>\n",
    "jet_jvf <br>\n",
    "jet_trueflav <br>\n",
    "jet_truematched <br>\n",
    "jet_SV0 <br>\n",
    "jet_MV1 <br>"
   ]
  }
 ],
 "metadata": {
  "kernelspec": {
   "display_name": "ROOT C++",
   "language": "c++",
   "name": "root"
  },
  "language_info": {
   "codemirror_mode": "text/x-c++src",
   "file_extension": ".C",
   "mimetype": " text/x-c++src",
   "name": "c++"
  }
 },
 "nbformat": 4,
 "nbformat_minor": 2
}
