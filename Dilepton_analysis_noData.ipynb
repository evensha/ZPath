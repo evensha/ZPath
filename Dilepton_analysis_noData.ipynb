{
 "cells": [
  {
   "cell_type": "markdown",
   "metadata": {},
   "source": [
    "# Dilepton analysis (background only)  \n"
   ]
  },
  {
   "cell_type": "markdown",
   "metadata": {},
   "source": [
    "This is an example of a simple dilepton analysis, with special emphasis on how to treat the MC background samples, using the ATLAS Open Data dataset. We will run over the full set of background samples, pick out final states with two leptons, scale the background to correct cross section and luminosity, and finally plot the resulting histograms. \n",
    "\n",
    "**Notice:** This is *only an example* on how to do this. Feel free to be creative, and to find better and/or more elegant ways of doing the various steps! "
   ]
  },
  {
   "cell_type": "code",
   "execution_count": 1,
   "metadata": {},
   "outputs": [],
   "source": [
    "#include <iostream>\n",
    "#include <string>\n",
    "#include <stdio.h>"
   ]
  },
  {
   "cell_type": "code",
   "execution_count": 2,
   "metadata": {},
   "outputs": [],
   "source": [
    "%jsroot on"
   ]
  },
  {
   "cell_type": "markdown",
   "metadata": {},
   "source": [
    "## 1. Reading the dataset"
   ]
  },
  {
   "cell_type": "code",
   "execution_count": 3,
   "metadata": {},
   "outputs": [],
   "source": [
    "TChain *dataset = new TChain(\"mini\"); "
   ]
  },
  {
   "cell_type": "markdown",
   "metadata": {},
   "source": [
    "A list of all the background samples and their IDs can be found in **Background_samples.txt**. We read that list, and add all the samples to the TChain. We also (for later convenience) make a vector containing the dataset IDs. "
   ]
  },
  {
   "cell_type": "code",
   "execution_count": 4,
   "metadata": {},
   "outputs": [],
   "source": [
    "TString sample; \n",
    "TString path; \n",
    "vector<Int_t> dataset_IDs;\n",
    "Int_t DSID;"
   ]
  },
  {
   "cell_type": "code",
   "execution_count": 5,
   "metadata": {},
   "outputs": [],
   "source": [
    "ifstream infile(\"Background_samples.txt\");"
   ]
  },
  {
   "cell_type": "code",
   "execution_count": 6,
   "metadata": {},
   "outputs": [],
   "source": [
    "infile.clear();\n",
    "infile.seekg(0, ios::beg);  // Start at the beginning of the file\n",
    "dataset->Reset(); // Reset the TChain (if necessary)  \n",
    "while(infile >> sample >> DSID){\n",
    "    path = \"DataSamples/MC/\"+sample; // Specify path to the samples \n",
    "    dataset->Add(path);  \n",
    "    dataset_IDs.push_back(DSID);\n",
    "}"
   ]
  },
  {
   "cell_type": "markdown",
   "metadata": {},
   "source": [
    "Next we define the variables we want to include in the analysis, and link them to branches in the TTree. A few things to notice at this point: \n",
    "-  In this example we will only study events with two leptons, so the vectorial variables only need to be two dimensional. \n",
    "-  The variables are here given names corresponding to the branches in the TTree. This is not necessary, so if you want to give them other names you are free to do so. \n",
    "-  The variable called \"channelNumber\" is the same as we have called \"dataset ID\" above. These terms are used interchangeably. "
   ]
  },
  {
   "cell_type": "code",
   "execution_count": 7,
   "metadata": {},
   "outputs": [],
   "source": [
    "Int_t lep_n, lep_charge[2], lep_type[2], channelNumber; \n",
    "Float_t lep_pt[2], lep_E[2], lep_phi[2], lep_eta[2], met_et; "
   ]
  },
  {
   "cell_type": "code",
   "execution_count": 8,
   "metadata": {},
   "outputs": [],
   "source": [
    "dataset->SetBranchAddress(\"lep_n\",      &lep_n);\n",
    "dataset->SetBranchAddress(\"lep_charge\", &lep_charge);\n",
    "dataset->SetBranchAddress(\"lep_type\",   &lep_type);\n",
    "dataset->SetBranchAddress(\"lep_pt\",     &lep_pt);\n",
    "dataset->SetBranchAddress(\"lep_eta\",    &lep_eta);\n",
    "dataset->SetBranchAddress(\"lep_phi\",    &lep_phi);\n",
    "dataset->SetBranchAddress(\"lep_E\",      &lep_E);\n",
    "dataset->SetBranchAddress(\"met_et\",     &met_et); \n",
    "dataset->SetBranchAddress(\"channelNumber\", &channelNumber);"
   ]
  },
  {
   "cell_type": "markdown",
   "metadata": {},
   "source": [
    "## 2. Making (a lot of) histograms"
   ]
  },
  {
   "cell_type": "markdown",
   "metadata": {},
   "source": [
    "Now that we have read our dataset we want to start analyzing the data. To do so we need to put the data into histograms. For reasons that will become clear later in the analysis we must (for each variable) make one histogram per dataset ID. (We have 31 background samples, so if we want to study 10 variables we have to make 310 histograms!) A very elegant way of dealing with all these histograms is by using [map](http://www.cplusplus.com/reference/map/map/)s (the C$++$ equivalent of Python dictionaries). Below we define one map for each variable. Here the *key values* are the dataset IDs, while the *mapped values* are the histograms.   "
   ]
  },
  {
   "cell_type": "code",
   "execution_count": 9,
   "metadata": {},
   "outputs": [],
   "source": [
    "map<Int_t, TH1*> hist_mll; \n",
    "map<Int_t, TH1*> hist_lep_pt; \n",
    "map<Int_t, TH1*> hist_met;"
   ]
  },
  {
   "cell_type": "code",
   "execution_count": 10,
   "metadata": {},
   "outputs": [],
   "source": [
    "for(const auto & i:dataset_IDs){\n",
    "    hist_mll[i] = new TH1F(); \n",
    "    hist_lep_pt[i] = new TH1F(); \n",
    "    hist_met[i] = new TH1F();\n",
    "}"
   ]
  },
  {
   "cell_type": "code",
   "execution_count": 11,
   "metadata": {},
   "outputs": [],
   "source": [
    "for(const auto & i:dataset_IDs){\n",
    "    hist_mll[i]->SetNameTitle(\"hist_mll\", \"Invariant mass\"); \n",
    "    hist_lep_pt[i]->SetNameTitle(\"hist_lep_pt\", \"Lepton pT\"); \n",
    "    hist_met[i]->SetNameTitle(\"hist_met\", \"Missing ET\");\n",
    "    hist_mll[i]->SetBins(20,0,500); \n",
    "    hist_lep_pt[i]->SetBins(20,0,1000);\n",
    "    hist_met[i]->SetBins(20,0,500); \n",
    "}"
   ]
  },
  {
   "cell_type": "markdown",
   "metadata": {},
   "source": [
    "### 2.1 Fill the histograms \n",
    "We can now loop over all events in our dataset, implement desired cuts, and fill the histograms we created above. In this example we choose only events containing exactly to same flavour leptons with opposite charge (i.e. $e^+e^-$ or $\\mu^+\\mu^-$). \n",
    "Before starting the loop we extract the total number of entries (events) in the TChain. We also make [TLorentzVector](https://root.cern.ch/doc/master/classTLorentzVector.html)s, which are very practical for handling the kinematics of the leptons, e.g. calculating the invariant mass of the two leptons. "
   ]
  },
  {
   "cell_type": "code",
   "execution_count": 12,
   "metadata": {},
   "outputs": [],
   "source": [
    "int nentries = (Int_t)dataset->GetEntries(); "
   ]
  },
  {
   "cell_type": "code",
   "execution_count": 13,
   "metadata": {},
   "outputs": [],
   "source": [
    "TLorentzVector l1, l2, dileptons; "
   ]
  },
  {
   "cell_type": "code",
   "execution_count": 14,
   "metadata": {},
   "outputs": [],
   "source": [
    "for(const auto & i:dataset_IDs){ // Reset histograms if you have filled them before \n",
    "    hist_mll[i]->Reset(); \n",
    "    hist_lep_pt[i]->Reset(); \n",
    "    hist_met[i]->Reset();\n",
    "}"
   ]
  },
  {
   "cell_type": "code",
   "execution_count": null,
   "metadata": {},
   "outputs": [],
   "source": [
    "for (int i = 0; i < nentries ; i++){\n",
    "    \n",
    "    if( i%1000000 == 0 && i>0){ cout << i/1000000 << \" million events processed\" << endl;}\n",
    "    dataset->GetEntry(i); // We \"pull out\" the i'th entry in the chain. The variables are now \n",
    "                          // available through the names we have given them. \n",
    "    \n",
    "    // Cut #1: Require (exactly) 2 leptons\n",
    "    if(lep_n == 2)\n",
    "    {\n",
    "        // Cut #2: Require opposite charge\n",
    "        if(lep_charge[0] != lep_charge[1])\n",
    "        {\n",
    "            // Cut #3: Require same flavour (2 electrons or 2 muons)\n",
    "            if(lep_type[0] == lep_type[1])\n",
    "            {\n",
    "                l1.SetPtEtaPhiE(lep_pt[0]/1000., lep_eta[0], lep_phi[0], lep_E[0]/1000.);\n",
    "                l2.SetPtEtaPhiE(lep_pt[1]/1000., lep_eta[1], lep_phi[1], lep_E[1]/1000.);\n",
    "                // Variables are stored in the TTree with unit MeV, so we need to divide by 1000 \n",
    "                // to get GeV, which is a more practical unit. \n",
    "                \n",
    "                dileptons = l1 + l2;   \n",
    "    \n",
    "                hist_mll[channelNumber]->Fill(dileptons.M());\n",
    "                hist_lep_pt[channelNumber]->Fill(l1.Pt());\n",
    "                hist_lep_pt[channelNumber]->Fill(l2.Pt()); \n",
    "                hist_met[channelNumber]->Fill(met_et/1000);   \n",
    "                \n",
    "            }\n",
    "        }\n",
    "    }      \n",
    "}\n",
    "cout << \"Done!\" << endl; "
   ]
  },
  {
   "cell_type": "markdown",
   "metadata": {},
   "source": [
    "We have now done the \"heavy lifting\" of an analysis, i.e. looping through all the events. Usually in such an analysis we create new ROOT files where we store the histograms we made above, and then analyse the output in a separate program/script. The advantage of doing this is that you can do the rest of the analysis in another language, e.g. Python, since we are done with part that requires the speed of C$++$. If you want to write ROOT files you can check out the [TFile](https://root.cern.ch/doc/master/classTFile.html) class reference. In this example we will however carry on in C$++$. "
   ]
  },
  {
   "cell_type": "markdown",
   "metadata": {},
   "source": [
    "## 3. Scale and classify the histograms"
   ]
  },
  {
   "cell_type": "markdown",
   "metadata": {},
   "source": [
    "Before we are ready to make plots we need to do some further processing of the histograms we made above. The information necessary for doing the two steps below is found in the file **Infofile.txt**.   \n",
    "1. We need to **scale** the histograms to the right cross section and luminosity. Why? When making the MC samples a certain number of events is simulated, which will usually not correspond to the number of events in our data. The expected number of events from a certain kind of process is given by $N=\\sigma L$, where $\\sigma$ is the cross section and $L$ is the integrated luminosity. Therefore we need to scale each histogram by a scale factor <br> <br>\n",
    "$$sf = \\frac{N}{N_{MC}} = \\frac{ \\sigma L }{N_{MC}},$$ <br>  where $N_{MC}$ is the number of generated MC events.  <br> <br>\n",
    "2. We also need to **classify** the background processes into different categories. This is necessary when we eventually want to make the characteristic colorful background plots you might have seen before.  "
   ]
  },
  {
   "cell_type": "markdown",
   "metadata": {},
   "source": [
    "### 3.1 Make new histograms \n",
    "Maybe a bit depressingly we have to make a set of new histograms, this time corresponding to the different background categories, instead of the dataset IDs. Notice that these new histograms are made in a very similar way as above, i.e. with the same range and binning. "
   ]
  },
  {
   "cell_type": "code",
   "execution_count": 16,
   "metadata": {},
   "outputs": [],
   "source": [
    "map<TString, TH1*> H_mll; \n",
    "map<TString, TH1*> H_lep_pt; \n",
    "map<TString, TH1*> H_met;"
   ]
  },
  {
   "cell_type": "code",
   "execution_count": 17,
   "metadata": {},
   "outputs": [],
   "source": [
    "vector<TString> Backgrounds; "
   ]
  },
  {
   "cell_type": "code",
   "execution_count": 18,
   "metadata": {},
   "outputs": [],
   "source": [
    "Backgrounds = {\"Higgs\",\"Diboson\", \"Wjets\", \"DY\", \"singleTop\", \"ttbar\", \"Zjets\"}; "
   ]
  },
  {
   "cell_type": "code",
   "execution_count": 19,
   "metadata": {},
   "outputs": [],
   "source": [
    "for(const auto i:Backgrounds){\n",
    "    H_mll[i] = new TH1F(); \n",
    "    H_lep_pt[i] = new TH1F(); \n",
    "    H_met[i] = new TH1F(); \n",
    "}"
   ]
  },
  {
   "cell_type": "code",
   "execution_count": 20,
   "metadata": {},
   "outputs": [],
   "source": [
    "for(const auto & i:Backgrounds){\n",
    "    H_mll[i]->Reset(); \n",
    "    H_lep_pt[i]->Reset(); \n",
    "    H_met[i]->Reset();\n",
    "}"
   ]
  },
  {
   "cell_type": "code",
   "execution_count": 21,
   "metadata": {},
   "outputs": [],
   "source": [
    "for(const auto & i:Backgrounds){\n",
    "    H_mll[i]->SetNameTitle(\"hist_mll\", \"Invariant mass\"); \n",
    "    H_lep_pt[i]->SetNameTitle(\"hist_lep_pt\", \"Lepton pT\"); \n",
    "    H_met[i]->SetNameTitle(\"hist_met\", \"Missing ET\");\n",
    "    H_mll[i]->SetBins(20,0,500); \n",
    "    H_lep_pt[i]->SetBins(20,0,1000);\n",
    "    H_met[i]->SetBins(20,0,500); \n",
    "}"
   ]
  },
  {
   "cell_type": "markdown",
   "metadata": {},
   "source": [
    "### 3.2 Scale and add histograms \n",
    "Now we read our info file, scale all (old) histograms, and then add them to the new histograms we just defined.  "
   ]
  },
  {
   "cell_type": "code",
   "execution_count": 22,
   "metadata": {},
   "outputs": [],
   "source": [
    "ifstream info(\"Infofile.txt\"); \n",
    "TString process; \n",
    "TString type; \n",
    "Int_t dsid; \n",
    "Int_t n_events; \n",
    "Double_t red_eff; \n",
    "Double_t sum_w; \n",
    "Double_t x_sec; \n",
    "Double_t L = 1000.6; // Integrated luminosity (pb)\n",
    "Double_t SF; "
   ]
  },
  {
   "cell_type": "code",
   "execution_count": 23,
   "metadata": {},
   "outputs": [],
   "source": [
    "info.clear();\n",
    "info.seekg(0, ios::beg);  \n",
    "while(info >> process >> type >> dsid >> n_events >> red_eff >> sum_w >> x_sec){\n",
    "    \n",
    "    SF = x_sec*L/(n_events*red_eff); \n",
    "    \n",
    "    hist_mll[dsid]->Scale(SF); \n",
    "    hist_lep_pt[dsid]->Scale(SF); \n",
    "    hist_met[dsid]->Scale(SF); \n",
    "    \n",
    "    H_mll[type]->Add(hist_mll[dsid]); \n",
    "    H_lep_pt[type]->Add(hist_lep_pt[dsid]); \n",
    "    H_met[type]->Add(hist_met[dsid]); \n",
    "    \n",
    "}"
   ]
  },
  {
   "cell_type": "markdown",
   "metadata": {},
   "source": [
    "### 3.3 Color the histograms \n",
    "Make yet another map, this time containing the colors you want the backgrounds to have, and then set the colors of your histograms. Note that colors are defined by integers in ROOT. If you are not happy with the colors chosen below you can have look at the [TColor](https://root.cern.ch/doc/master/classTColor.html) class reference for more options. "
   ]
  },
  {
   "cell_type": "code",
   "execution_count": 24,
   "metadata": {},
   "outputs": [],
   "source": [
    "map<TString, Int_t> colors; "
   ]
  },
  {
   "cell_type": "code",
   "execution_count": 25,
   "metadata": {},
   "outputs": [],
   "source": [
    "colors[\"Diboson\"] = kGreen; \n",
    "colors[\"Zjets\"] = kYellow; \n",
    "colors[\"ttbar\"] = kRed;\n",
    "colors[\"singleTop\"] = kBlue-7; \n",
    "colors[\"Wjets\"] = kBlue+3; \n",
    "colors[\"DY\"] = kOrange+1; \n",
    "colors[\"Higgs\"] = kMagenta; "
   ]
  },
  {
   "cell_type": "code",
   "execution_count": 26,
   "metadata": {},
   "outputs": [],
   "source": [
    "for(const auto h:Backgrounds){\n",
    "    H_mll[h]->SetFillColor(colors[h]); \n",
    "    H_met[h]->SetFillColor(colors[h]);\n",
    "    H_lep_pt[h]->SetFillColor(colors[h]);\n",
    "    \n",
    "    H_mll[h]->SetLineColor(colors[h]); \n",
    "    H_met[h]->SetLineColor(colors[h]);\n",
    "    H_lep_pt[h]->SetLineColor(colors[h]);\n",
    "}"
   ]
  },
  {
   "cell_type": "markdown",
   "metadata": {},
   "source": [
    "## 4. Stack and plot the histograms"
   ]
  },
  {
   "cell_type": "markdown",
   "metadata": {},
   "source": [
    "Finally we have arrived to the part where we can plot the results of all the work done above. For each variable we need to stack the backgrounds on top of each other, which is done by using the [THStack](https://root.cern.ch/doc/master/classTHStack.html) class. In the example below we do this for two variables; invariant mass and missing $E_T$.   "
   ]
  },
  {
   "cell_type": "code",
   "execution_count": 27,
   "metadata": {},
   "outputs": [],
   "source": [
    "THStack *stack_mll = new THStack(\"Invariant mass\", \"\");\n",
    "THStack *stack_met = new THStack(\"Missing ET\", \"\"); "
   ]
  },
  {
   "cell_type": "code",
   "execution_count": 28,
   "metadata": {},
   "outputs": [],
   "source": [
    "for(const auto h:Backgrounds){\n",
    "    stack_mll->RecursiveRemove(H_mll[h]); // Remove previously stacked histograms  \n",
    "    stack_met->RecursiveRemove(H_met[h]);\n",
    "    stack_mll->Add(H_mll[h]); \n",
    "    stack_met->Add(H_met[h]);\n",
    "}    "
   ]
  },
  {
   "cell_type": "markdown",
   "metadata": {},
   "source": [
    "Now we make a legend (see [TLegend](https://root.cern.ch/doc/master/classTLegend.html)), and add  the different backgrounds. Next we make a canvas (see [TCanvas](https://root.cern.ch/doc/master/classTCanvas.html)), which is allways necessary when we want to make a plot. Then you draw the stack and the legend, and display them by drawing the canvas. We can also specify axis labels and a bunch of other stuff. "
   ]
  },
  {
   "cell_type": "code",
   "execution_count": 29,
   "metadata": {},
   "outputs": [],
   "source": [
    "gStyle->SetLegendBorderSize(0); // Remove (default) border around legend \n",
    "TLegend *leg = new TLegend(0.65, 0.60, 0.9, 0.85); "
   ]
  },
  {
   "cell_type": "code",
   "execution_count": 30,
   "metadata": {},
   "outputs": [],
   "source": [
    "leg->Clear();\n",
    "for(const auto i:Backgrounds){\n",
    "    leg->AddEntry(H_mll[i], i, \"f\");  // Add your histograms to the legend\n",
    "} "
   ]
  },
  {
   "cell_type": "code",
   "execution_count": 31,
   "metadata": {},
   "outputs": [],
   "source": [
    "TCanvas *C = new TCanvas(\"c\", \"c\", 600, 600);"
   ]
  },
  {
   "cell_type": "code",
   "execution_count": 32,
   "metadata": {},
   "outputs": [],
   "source": [
    "gPad->SetLogy(); // Set logarithmic y-axis"
   ]
  },
  {
   "cell_type": "code",
   "execution_count": 33,
   "metadata": {},
   "outputs": [
    {
     "data": {
      "text/html": [
       "\n",
       "<div id=\"root_plot_1\"\n",
       "     style=\"width: 596px; height: 572px\">\n",
       "</div>\n",
       "\n",
       "<script>\n",
       " requirejs.config({\n",
       "     paths: {\n",
       "       'JSRootCore' : 'https://root.cern.ch/js/notebook//scripts/JSRootCore',\n",
       "     }\n",
       "   });\n",
       " require(['JSRootCore'],\n",
       "     function(Core) {\n",
       "       var obj = Core.JSONR_unref({\"_typename\":\"TCanvas\",\"fUniqueID\":0,\"fBits\":53673992,\"fLineColor\":1,\"fLineStyle\":1,\"fLineWidth\":1,\"fFillColor\":0,\"fFillStyle\":1001,\"fLeftMargin\":0.1,\"fRightMargin\":0.1,\"fBottomMargin\":0.1,\"fTopMargin\":0.1,\"fXfile\":2,\"fYfile\":2,\"fAfile\":1,\"fXstat\":0.99,\"fYstat\":0.99,\"fAstat\":2,\"fFrameFillColor\":0,\"fFrameLineColor\":1,\"fFrameFillStyle\":1001,\"fFrameLineStyle\":1,\"fFrameLineWidth\":1,\"fFrameBorderSize\":1,\"fFrameBorderMode\":0,\"fX1\":-62.5000046566132,\"fY1\":-0.541572090719464,\"fX2\":562.500004656613,\"fY2\":6.11087079275961,\"fXtoAbsPixelk\":59.600053552437,\"fXtoPixelk\":59.600053552437,\"fXtoPixel\":0.953599985790252,\"fYtoAbsPixelk\":525.43381240616,\"fYtoPixelk\":525.43381240616,\"fYtoPixel\":-85.9834514957695,\"fUtoAbsPixelk\":5e-5,\"fUtoPixelk\":5e-5,\"fUtoPixel\":596,\"fVtoAbsPixelk\":572.00005,\"fVtoPixelk\":572,\"fVtoPixel\":-572,\"fAbsPixeltoXk\":-62.5000046566132,\"fPixeltoXk\":-62.5000046566132,\"fPixeltoX\":1.04865773374702,\"fAbsPixeltoYk\":6.11087079275961,\"fPixeltoYk\":-0.541572090719464,\"fPixeltoY\":-0.0116301449011872,\"fXlowNDC\":0,\"fYlowNDC\":0,\"fXUpNDC\":0,\"fYUpNDC\":0,\"fWNDC\":1,\"fHNDC\":1,\"fAbsXlowNDC\":0,\"fAbsYlowNDC\":0,\"fAbsWNDC\":1,\"fAbsHNDC\":1,\"fUxmin\":0,\"fUymin\":0.123672237280095,\"fUxmax\":500,\"fUymax\":5.44562646476005,\"fTheta\":30,\"fPhi\":30,\"fAspectRatio\":0,\"fNumber\":0,\"fTickx\":0,\"fTicky\":0,\"fLogx\":0,\"fLogy\":1,\"fLogz\":0,\"fPadPaint\":0,\"fCrosshair\":0,\"fCrosshairPos\":0,\"fBorderSize\":2,\"fBorderMode\":0,\"fModified\":false,\"fGridx\":false,\"fGridy\":false,\"fAbsCoord\":false,\"fEditable\":true,\"fFixedAspectRatio\":false,\"fPrimitives\":{\"_typename\":\"TList\",\"name\":\"TList\",\"arr\":[{\"_typename\":\"TFrame\",\"fUniqueID\":0,\"fBits\":50331656,\"fLineColor\":1,\"fLineStyle\":1,\"fLineWidth\":1,\"fFillColor\":0,\"fFillStyle\":1001,\"fX1\":0,\"fY1\":0.123672237280095,\"fX2\":500,\"fY2\":5.44562646476005,\"fBorderSize\":1,\"fBorderMode\":0},{\"_typename\":\"THStack\",\"fUniqueID\":0,\"fBits\":50331656,\"fName\":\"Invariant mass\",\"fTitle\":\"\",\"fHists\":{\"_typename\":\"TList\",\"name\":\"TList\",\"arr\":[{\"_typename\":\"TH1F\",\"fUniqueID\":0,\"fBits\":50331648,\"fName\":\"hist_mll\",\"fTitle\":\"Invariant mass\",\"fLineColor\":616,\"fLineStyle\":1,\"fLineWidth\":1,\"fFillColor\":616,\"fFillStyle\":1001,\"fMarkerColor\":1,\"fMarkerStyle\":1,\"fMarkerSize\":1,\"fNcells\":22,\"fXaxis\":{\"_typename\":\"TAxis\",\"fUniqueID\":0,\"fBits\":50331648,\"fName\":\"xaxis\",\"fTitle\":\"\",\"fNdivisions\":510,\"fAxisColor\":1,\"fLabelColor\":1,\"fLabelFont\":42,\"fLabelOffset\":0.005,\"fLabelSize\":0.035,\"fTickLength\":0.03,\"fTitleOffset\":1,\"fTitleSize\":0.035,\"fTitleColor\":1,\"fTitleFont\":42,\"fNbins\":20,\"fXmin\":0,\"fXmax\":500,\"fXbins\":[],\"fFirst\":1,\"fLast\":1,\"fBits2\":0,\"fTimeDisplay\":false,\"fTimeFormat\":\"\",\"fLabels\":null,\"fModLabs\":null},\"fYaxis\":{\"_typename\":\"TAxis\",\"fUniqueID\":0,\"fBits\":50331648,\"fName\":\"yaxis\",\"fTitle\":\"\",\"fNdivisions\":510,\"fAxisColor\":1,\"fLabelColor\":1,\"fLabelFont\":42,\"fLabelOffset\":0.005,\"fLabelSize\":0.035,\"fTickLength\":0.03,\"fTitleOffset\":0,\"fTitleSize\":0.035,\"fTitleColor\":1,\"fTitleFont\":42,\"fNbins\":1,\"fXmin\":0,\"fXmax\":1,\"fXbins\":[],\"fFirst\":0,\"fLast\":0,\"fBits2\":0,\"fTimeDisplay\":false,\"fTimeFormat\":\"\",\"fLabels\":null,\"fModLabs\":null},\"fZaxis\":{\"_typename\":\"TAxis\",\"fUniqueID\":0,\"fBits\":50331648,\"fName\":\"zaxis\",\"fTitle\":\"\",\"fNdivisions\":510,\"fAxisColor\":1,\"fLabelColor\":1,\"fLabelFont\":42,\"fLabelOffset\":0.005,\"fLabelSize\":0.035,\"fTickLength\":0.03,\"fTitleOffset\":1,\"fTitleSize\":0.035,\"fTitleColor\":1,\"fTitleFont\":42,\"fNbins\":1,\"fXmin\":0,\"fXmax\":1,\"fXbins\":[],\"fFirst\":0,\"fLast\":0,\"fBits2\":0,\"fTimeDisplay\":false,\"fTimeFormat\":\"\",\"fLabels\":null,\"fModLabs\":null},\"fBarOffset\":0,\"fBarWidth\":1000,\"fEntries\":123844,\"fTsumw\":123844,\"fTsumw2\":123844,\"fTsumwx\":6094421.571249,\"fTsumwx2\":391456178.749686,\"fMaximum\":-1111,\"fMinimum\":-1111,\"fNormFactor\":0,\"fContour\":[],\"fSumw2\":[0,0.00205061758032094,0.00349246700878802,0.00131691622247887,9.39886343992395e-5,4.62971119834758e-7,5.56132201089153e-7,0,1.93149115731682e-7,7.28896110976889e-9,3.64922841057881e-9,0,0,0,0,0,0,0,0,0,0,0],\"fOption\":\"\",\"fFunctions\":{\"_typename\":\"TList\",\"name\":\"TList\",\"arr\":[],\"opt\":[]},\"fBufferSize\":0,\"fBuffer\":[],\"fBinStatErrOpt\":0,\"fArray\":[0,5.467854,9.25166,3.542161,0.6717868,0.003797895,0.001488288,0,6.340778e-4,1.207391e-4,6.254849e-5,0,0,0,0,0,0,0,0,0,0,0]},{\"_typename\":\"TH1F\",\"fUniqueID\":0,\"fBits\":50331648,\"fName\":\"hist_mll\",\"fTitle\":\"Invariant mass\",\"fLineColor\":416,\"fLineStyle\":1,\"fLineWidth\":1,\"fFillColor\":416,\"fFillStyle\":1001,\"fMarkerColor\":1,\"fMarkerStyle\":1,\"fMarkerSize\":1,\"fNcells\":22,\"fXaxis\":{\"_typename\":\"TAxis\",\"fUniqueID\":0,\"fBits\":50331648,\"fName\":\"xaxis\",\"fTitle\":\"\",\"fNdivisions\":510,\"fAxisColor\":1,\"fLabelColor\":1,\"fLabelFont\":42,\"fLabelOffset\":0.005,\"fLabelSize\":0.035,\"fTickLength\":0.03,\"fTitleOffset\":1,\"fTitleSize\":0.035,\"fTitleColor\":1,\"fTitleFont\":42,\"fNbins\":20,\"fXmin\":0,\"fXmax\":500,\"fXbins\":[],\"fFirst\":1,\"fLast\":1,\"fBits2\":0,\"fTimeDisplay\":false,\"fTimeFormat\":\"\",\"fLabels\":null,\"fModLabs\":null},\"fYaxis\":{\"_typename\":\"TAxis\",\"fUniqueID\":0,\"fBits\":50331648,\"fName\":\"yaxis\",\"fTitle\":\"\",\"fNdivisions\":510,\"fAxisColor\":1,\"fLabelColor\":1,\"fLabelFont\":42,\"fLabelOffset\":0.005,\"fLabelSize\":0.035,\"fTickLength\":0.03,\"fTitleOffset\":0,\"fTitleSize\":0.035,\"fTitleColor\":1,\"fTitleFont\":42,\"fNbins\":1,\"fXmin\":0,\"fXmax\":1,\"fXbins\":[],\"fFirst\":0,\"fLast\":0,\"fBits2\":0,\"fTimeDisplay\":false,\"fTimeFormat\":\"\",\"fLabels\":null,\"fModLabs\":null},\"fZaxis\":{\"_typename\":\"TAxis\",\"fUniqueID\":0,\"fBits\":50331648,\"fName\":\"zaxis\",\"fTitle\":\"\",\"fNdivisions\":510,\"fAxisColor\":1,\"fLabelColor\":1,\"fLabelFont\":42,\"fLabelOffset\":0.005,\"fLabelSize\":0.035,\"fTickLength\":0.03,\"fTitleOffset\":1,\"fTitleSize\":0.035,\"fTitleColor\":1,\"fTitleFont\":42,\"fNbins\":1,\"fXmin\":0,\"fXmax\":1,\"fXbins\":[],\"fFirst\":0,\"fLast\":0,\"fBits2\":0,\"fTimeDisplay\":false,\"fTimeFormat\":\"\",\"fLabels\":null,\"fModLabs\":null},\"fBarOffset\":0,\"fBarWidth\":1000,\"fEntries\":198152,\"fTsumw\":197920,\"fTsumw2\":197920,\"fTsumwx\":17751474.4766236,\"fTsumwx2\":1854295146.79853,\"fMaximum\":-1111,\"fMinimum\":-1111,\"fNormFactor\":0,\"fContour\":[],\"fSumw2\":[0,0.25682803634191,0.798371568525569,0.849717610543355,6.4958918697313,0.546352491439628,0.25011332607652,0.154714941517222,0.103074051154159,0.0656403904055188,0.0448472479095559,0.034996853597312,0.0259666508640247,0.0169083511917085,0.0125842925132555,0.0100517774627796,0.00741503693860083,0.00584204589958431,0.00430357478110867,0.0032667321748026,0.00246647525246196,0.0134856952752561],\"fOption\":\"\",\"fFunctions\":{\"_typename\":\"TList\",\"name\":\"TList\",\"arr\":[],\"opt\":[]},\"fBufferSize\":0,\"fBuffer\":[],\"fBinStatErrOpt\":0,\"fArray\":[0,33.59818,104.9994,111.2784,960.4629,73.49519,31.86795,19.51853,12.97064,8.263003,5.632337,4.366045,3.253268,2.145417,1.582753,1.285012,0.9461576,0.7523358,0.5501091,0.4141537,0.3165338,1.759785]},{\"_typename\":\"TH1F\",\"fUniqueID\":0,\"fBits\":50331648,\"fName\":\"hist_mll\",\"fTitle\":\"Invariant mass\",\"fLineColor\":603,\"fLineStyle\":1,\"fLineWidth\":1,\"fFillColor\":603,\"fFillStyle\":1001,\"fMarkerColor\":1,\"fMarkerStyle\":1,\"fMarkerSize\":1,\"fNcells\":22,\"fXaxis\":{\"_typename\":\"TAxis\",\"fUniqueID\":0,\"fBits\":50331648,\"fName\":\"xaxis\",\"fTitle\":\"\",\"fNdivisions\":510,\"fAxisColor\":1,\"fLabelColor\":1,\"fLabelFont\":42,\"fLabelOffset\":0.005,\"fLabelSize\":0.035,\"fTickLength\":0.03,\"fTitleOffset\":1,\"fTitleSize\":0.035,\"fTitleColor\":1,\"fTitleFont\":42,\"fNbins\":20,\"fXmin\":0,\"fXmax\":500,\"fXbins\":[],\"fFirst\":1,\"fLast\":1,\"fBits2\":0,\"fTimeDisplay\":false,\"fTimeFormat\":\"\",\"fLabels\":null,\"fModLabs\":null},\"fYaxis\":{\"_typename\":\"TAxis\",\"fUniqueID\":0,\"fBits\":50331648,\"fName\":\"yaxis\",\"fTitle\":\"\",\"fNdivisions\":510,\"fAxisColor\":1,\"fLabelColor\":1,\"fLabelFont\":42,\"fLabelOffset\":0.005,\"fLabelSize\":0.035,\"fTickLength\":0.03,\"fTitleOffset\":0,\"fTitleSize\":0.035,\"fTitleColor\":1,\"fTitleFont\":42,\"fNbins\":1,\"fXmin\":0,\"fXmax\":1,\"fXbins\":[],\"fFirst\":0,\"fLast\":0,\"fBits2\":0,\"fTimeDisplay\":false,\"fTimeFormat\":\"\",\"fLabels\":null,\"fModLabs\":null},\"fZaxis\":{\"_typename\":\"TAxis\",\"fUniqueID\":0,\"fBits\":50331648,\"fName\":\"zaxis\",\"fTitle\":\"\",\"fNdivisions\":510,\"fAxisColor\":1,\"fLabelColor\":1,\"fLabelFont\":42,\"fLabelOffset\":0.005,\"fLabelSize\":0.035,\"fTickLength\":0.03,\"fTitleOffset\":1,\"fTitleSize\":0.035,\"fTitleColor\":1,\"fTitleFont\":42,\"fNbins\":1,\"fXmin\":0,\"fXmax\":1,\"fXbins\":[],\"fFirst\":0,\"fLast\":0,\"fBits2\":0,\"fTimeDisplay\":false,\"fTimeFormat\":\"\",\"fLabels\":null,\"fModLabs\":null},\"fBarOffset\":0,\"fBarWidth\":1000,\"fEntries\":78868,\"fTsumw\":78857,\"fTsumw2\":78857,\"fTsumwx\":3801116.54702464,\"fTsumwx2\":264633604.814729,\"fMaximum\":-1111,\"fMinimum\":-1111,\"fNormFactor\":0,\"fContour\":[],\"fSumw2\":[0,1205.17985756735,3006.2097638,1074.53352534754,368.690399562934,162.266580870549,66.4345433568838,29.2750275190684,18.1282053227729,8.99353657799237,4.37500510827231,3.98969614317077,1.72727490770712,1.06753846885357,0.972711981592876,0.945114130877732,0.472923285001431,0.241799605404487,0.263567732950652,0.25273874667984,0.483599210808973,1.41753958858269],\"fOption\":\"\",\"fFunctions\":{\"_typename\":\"TList\",\"name\":\"TList\",\"arr\":[],\"opt\":[]},\"fBufferSize\":0,\"fBuffer\":[],\"fBinStatErrOpt\":0,\"fArray\":[0,2759.953,7249.28,2687.255,921.9521,403.0367,168.6134,77.83804,44.66456,23.13276,11.76261,8.889149,4.579708,2.779411,2.500319,2.152291,1.109283,0.5954506,0.7941358,0.7000409,1.190901,3.21695]},{\"_typename\":\"TH1F\",\"fUniqueID\":0,\"fBits\":50331648,\"fName\":\"hist_mll\",\"fTitle\":\"Invariant mass\",\"fLineColor\":801,\"fLineStyle\":1,\"fLineWidth\":1,\"fFillColor\":801,\"fFillStyle\":1001,\"fMarkerColor\":1,\"fMarkerStyle\":1,\"fMarkerSize\":1,\"fNcells\":22,\"fXaxis\":{\"_typename\":\"TAxis\",\"fUniqueID\":0,\"fBits\":50331648,\"fName\":\"xaxis\",\"fTitle\":\"\",\"fNdivisions\":510,\"fAxisColor\":1,\"fLabelColor\":1,\"fLabelFont\":42,\"fLabelOffset\":0.005,\"fLabelSize\":0.035,\"fTickLength\":0.03,\"fTitleOffset\":1,\"fTitleSize\":0.035,\"fTitleColor\":1,\"fTitleFont\":42,\"fNbins\":20,\"fXmin\":0,\"fXmax\":500,\"fXbins\":[],\"fFirst\":1,\"fLast\":1,\"fBits2\":0,\"fTimeDisplay\":false,\"fTimeFormat\":\"\",\"fLabels\":null,\"fModLabs\":null},\"fYaxis\":{\"_typename\":\"TAxis\",\"fUniqueID\":0,\"fBits\":50331648,\"fName\":\"yaxis\",\"fTitle\":\"\",\"fNdivisions\":510,\"fAxisColor\":1,\"fLabelColor\":1,\"fLabelFont\":42,\"fLabelOffset\":0.005,\"fLabelSize\":0.035,\"fTickLength\":0.03,\"fTitleOffset\":0,\"fTitleSize\":0.035,\"fTitleColor\":1,\"fTitleFont\":42,\"fNbins\":1,\"fXmin\":0,\"fXmax\":1,\"fXbins\":[],\"fFirst\":0,\"fLast\":0,\"fBits2\":0,\"fTimeDisplay\":false,\"fTimeFormat\":\"\",\"fLabels\":null,\"fModLabs\":null},\"fZaxis\":{\"_typename\":\"TAxis\",\"fUniqueID\":0,\"fBits\":50331648,\"fName\":\"zaxis\",\"fTitle\":\"\",\"fNdivisions\":510,\"fAxisColor\":1,\"fLabelColor\":1,\"fLabelFont\":42,\"fLabelOffset\":0.005,\"fLabelSize\":0.035,\"fTickLength\":0.03,\"fTitleOffset\":1,\"fTitleSize\":0.035,\"fTitleColor\":1,\"fTitleFont\":42,\"fNbins\":1,\"fXmin\":0,\"fXmax\":1,\"fXbins\":[],\"fFirst\":0,\"fLast\":0,\"fBits2\":0,\"fTimeDisplay\":false,\"fTimeFormat\":\"\",\"fLabels\":null,\"fModLabs\":null},\"fBarOffset\":0,\"fBarWidth\":1000,\"fEntries\":1703545,\"fTsumw\":1703545,\"fTsumw2\":1703545,\"fTsumwx\":34734152.85597,\"fTsumwx2\":865323280.381752,\"fMaximum\":-1111,\"fMinimum\":-1111,\"fNormFactor\":0,\"fContour\":[],\"fSumw2\":[0,400.634426955547,209.319841977813,0.142447774469877,0.0602580863313313,0.0184511811539161,0.00907523384954067,0.00456289301711551,0.00189512855400631,0.00147864721843053,0.0014872804923923,0.00102027363524697,0,0,0,0,0,0,3.99250172880145e-4,0,0,0],\"fOption\":\"\",\"fFunctions\":{\"_typename\":\"TList\",\"name\":\"TList\",\"arr\":[],\"opt\":[]},\"fBufferSize\":0,\"fBuffer\":[],\"fBinStatErrOpt\":0,\"fArray\":[0,21306.1,10899.76,7.160957,2.966479,0.8955895,0.4663311,0.2338283,0.09727251,0.07684465,0.07707726,0.05532469,0,0,0,0,0,0,0.01998125,0,0,0]},{\"_typename\":\"TH1F\",\"fUniqueID\":0,\"fBits\":50331648,\"fName\":\"hist_mll\",\"fTitle\":\"Invariant mass\",\"fLineColor\":593,\"fLineStyle\":1,\"fLineWidth\":1,\"fFillColor\":593,\"fFillStyle\":1001,\"fMarkerColor\":1,\"fMarkerStyle\":1,\"fMarkerSize\":1,\"fNcells\":22,\"fXaxis\":{\"_typename\":\"TAxis\",\"fUniqueID\":0,\"fBits\":50331648,\"fName\":\"xaxis\",\"fTitle\":\"\",\"fNdivisions\":510,\"fAxisColor\":1,\"fLabelColor\":1,\"fLabelFont\":42,\"fLabelOffset\":0.005,\"fLabelSize\":0.035,\"fTickLength\":0.03,\"fTitleOffset\":1,\"fTitleSize\":0.035,\"fTitleColor\":1,\"fTitleFont\":42,\"fNbins\":20,\"fXmin\":0,\"fXmax\":500,\"fXbins\":[],\"fFirst\":1,\"fLast\":1,\"fBits2\":0,\"fTimeDisplay\":false,\"fTimeFormat\":\"\",\"fLabels\":null,\"fModLabs\":null},\"fYaxis\":{\"_typename\":\"TAxis\",\"fUniqueID\":0,\"fBits\":50331648,\"fName\":\"yaxis\",\"fTitle\":\"\",\"fNdivisions\":510,\"fAxisColor\":1,\"fLabelColor\":1,\"fLabelFont\":42,\"fLabelOffset\":0.005,\"fLabelSize\":0.035,\"fTickLength\":0.03,\"fTitleOffset\":0,\"fTitleSize\":0.035,\"fTitleColor\":1,\"fTitleFont\":42,\"fNbins\":1,\"fXmin\":0,\"fXmax\":1,\"fXbins\":[],\"fFirst\":0,\"fLast\":0,\"fBits2\":0,\"fTimeDisplay\":false,\"fTimeFormat\":\"\",\"fLabels\":null,\"fModLabs\":null},\"fZaxis\":{\"_typename\":\"TAxis\",\"fUniqueID\":0,\"fBits\":50331648,\"fName\":\"zaxis\",\"fTitle\":\"\",\"fNdivisions\":510,\"fAxisColor\":1,\"fLabelColor\":1,\"fLabelFont\":42,\"fLabelOffset\":0.005,\"fLabelSize\":0.035,\"fTickLength\":0.03,\"fTitleOffset\":1,\"fTitleSize\":0.035,\"fTitleColor\":1,\"fTitleFont\":42,\"fNbins\":1,\"fXmin\":0,\"fXmax\":1,\"fXbins\":[],\"fFirst\":0,\"fLast\":0,\"fBits2\":0,\"fTimeDisplay\":false,\"fTimeFormat\":\"\",\"fLabels\":null,\"fModLabs\":null},\"fBarOffset\":0,\"fBarWidth\":1000,\"fEntries\":19038,\"fTsumw\":19015,\"fTsumw2\":19015,\"fTsumwx\":1440706.22665057,\"fTsumwx2\":171523281.575025,\"fMaximum\":-1111,\"fMinimum\":-1111,\"fNormFactor\":0,\"fContour\":[],\"fSumw2\":[0,0.480689810597937,1.34851201243876,1.3239481532212,0.992351501027419,0.662914429784716,0.431667984777454,0.304501215078199,0.21574914125963,0.127579476807453,0.073265384058994,0.0498296939508038,0.0373692241924008,0.0274040977410939,0.0288988667087899,0.0134529207092643,0.0114598954190029,0.00647733219334947,0.00647733219334947,0.00249128161282672,0.00149476896769603,0.0104635665630065],\"fOption\":\"\",\"fFunctions\":{\"_typename\":\"TList\",\"name\":\"TList\",\"arr\":[],\"opt\":[]},\"fBufferSize\":0,\"fBuffer\":[],\"fBinStatErrOpt\":0,\"fArray\":[0,22.73443,66.56257,63.43861,45.76962,29.90166,19.38581,13.65962,9.667596,5.724379,3.288999,2.234181,1.674124,1.227691,1.294656,0.6026847,0.5133981,0.2901815,0.2901815,0.1116083,0.06696497,0.469361]},{\"_typename\":\"TH1F\",\"fUniqueID\":0,\"fBits\":50331648,\"fName\":\"hist_mll\",\"fTitle\":\"Invariant mass\",\"fLineColor\":632,\"fLineStyle\":1,\"fLineWidth\":1,\"fFillColor\":632,\"fFillStyle\":1001,\"fMarkerColor\":1,\"fMarkerStyle\":1,\"fMarkerSize\":1,\"fNcells\":22,\"fXaxis\":{\"_typename\":\"TAxis\",\"fUniqueID\":0,\"fBits\":50331648,\"fName\":\"xaxis\",\"fTitle\":\"\",\"fNdivisions\":510,\"fAxisColor\":1,\"fLabelColor\":1,\"fLabelFont\":42,\"fLabelOffset\":0.005,\"fLabelSize\":0.035,\"fTickLength\":0.03,\"fTitleOffset\":1,\"fTitleSize\":0.035,\"fTitleColor\":1,\"fTitleFont\":42,\"fNbins\":20,\"fXmin\":0,\"fXmax\":500,\"fXbins\":[],\"fFirst\":1,\"fLast\":1,\"fBits2\":0,\"fTimeDisplay\":false,\"fTimeFormat\":\"\",\"fLabels\":null,\"fModLabs\":null},\"fYaxis\":{\"_typename\":\"TAxis\",\"fUniqueID\":0,\"fBits\":50331648,\"fName\":\"yaxis\",\"fTitle\":\"\",\"fNdivisions\":510,\"fAxisColor\":1,\"fLabelColor\":1,\"fLabelFont\":42,\"fLabelOffset\":0.005,\"fLabelSize\":0.035,\"fTickLength\":0.03,\"fTitleOffset\":0,\"fTitleSize\":0.035,\"fTitleColor\":1,\"fTitleFont\":42,\"fNbins\":1,\"fXmin\":0,\"fXmax\":1,\"fXbins\":[],\"fFirst\":0,\"fLast\":0,\"fBits2\":0,\"fTimeDisplay\":false,\"fTimeFormat\":\"\",\"fLabels\":null,\"fModLabs\":null},\"fZaxis\":{\"_typename\":\"TAxis\",\"fUniqueID\":0,\"fBits\":50331648,\"fName\":\"zaxis\",\"fTitle\":\"\",\"fNdivisions\":510,\"fAxisColor\":1,\"fLabelColor\":1,\"fLabelFont\":42,\"fLabelOffset\":0.005,\"fLabelSize\":0.035,\"fTickLength\":0.03,\"fTitleOffset\":1,\"fTitleSize\":0.035,\"fTitleColor\":1,\"fTitleFont\":42,\"fNbins\":1,\"fXmin\":0,\"fXmax\":1,\"fXbins\":[],\"fFirst\":0,\"fLast\":0,\"fBits2\":0,\"fTimeDisplay\":false,\"fTimeFormat\":\"\",\"fLabels\":null,\"fModLabs\":null},\"fBarOffset\":0,\"fBarWidth\":1000,\"fEntries\":125131,\"fTsumw\":124993,\"fTsumw2\":124993,\"fTsumwx\":10639270.4120269,\"fTsumwx2\":1391736422.61831,\"fMaximum\":-1111,\"fMinimum\":-1111,\"fNormFactor\":0,\"fContour\":[],\"fSumw2\":[0,0.136150584120198,0.265839520746006,0.227970480573641,0.147644982638731,0.0946666471015308,0.0628814267076905,0.0414313634734147,0.0260775838103723,0.0176085015245095,0.0116684662462844,0.00738347896542737,0.00529010775414448,0.00335543977548593,0.00264505387707224,0.00179863663640912,0.00112603722195361,0.0010806934412038,6.34812930497338e-4,5.36568072206083e-4,3.70307542790114e-4,0.00104290695724563],\"fOption\":\"\",\"fFunctions\":{\"_typename\":\"TList\",\"name\":\"TList\",\"arr\":[],\"opt\":[]},\"fBufferSize\":0,\"fBuffer\":[],\"fBinStatErrOpt\":0,\"fArray\":[0,31.8439,87.01159,79.64521,52.54932,33.77975,22.6808,14.9167,9.408806,6.405295,4.244539,2.685826,1.924338,1.22058,0.9621688,0.6542748,0.409609,0.3931147,0.2309205,0.1951828,0.1347036,0.3793694]},{\"_typename\":\"TH1F\",\"fUniqueID\":0,\"fBits\":50331648,\"fName\":\"hist_mll\",\"fTitle\":\"Invariant mass\",\"fLineColor\":400,\"fLineStyle\":1,\"fLineWidth\":1,\"fFillColor\":400,\"fFillStyle\":1001,\"fMarkerColor\":1,\"fMarkerStyle\":1,\"fMarkerSize\":1,\"fNcells\":22,\"fXaxis\":{\"_typename\":\"TAxis\",\"fUniqueID\":0,\"fBits\":50331648,\"fName\":\"xaxis\",\"fTitle\":\"\",\"fNdivisions\":510,\"fAxisColor\":1,\"fLabelColor\":1,\"fLabelFont\":42,\"fLabelOffset\":0.005,\"fLabelSize\":0.035,\"fTickLength\":0.03,\"fTitleOffset\":1,\"fTitleSize\":0.035,\"fTitleColor\":1,\"fTitleFont\":42,\"fNbins\":20,\"fXmin\":0,\"fXmax\":500,\"fXbins\":[],\"fFirst\":1,\"fLast\":1,\"fBits2\":0,\"fTimeDisplay\":false,\"fTimeFormat\":\"\",\"fLabels\":null,\"fModLabs\":null},\"fYaxis\":{\"_typename\":\"TAxis\",\"fUniqueID\":0,\"fBits\":50331648,\"fName\":\"yaxis\",\"fTitle\":\"\",\"fNdivisions\":510,\"fAxisColor\":1,\"fLabelColor\":1,\"fLabelFont\":42,\"fLabelOffset\":0.005,\"fLabelSize\":0.035,\"fTickLength\":0.03,\"fTitleOffset\":0,\"fTitleSize\":0.035,\"fTitleColor\":1,\"fTitleFont\":42,\"fNbins\":1,\"fXmin\":0,\"fXmax\":1,\"fXbins\":[],\"fFirst\":0,\"fLast\":0,\"fBits2\":0,\"fTimeDisplay\":false,\"fTimeFormat\":\"\",\"fLabels\":null,\"fModLabs\":null},\"fZaxis\":{\"_typename\":\"TAxis\",\"fUniqueID\":0,\"fBits\":50331648,\"fName\":\"zaxis\",\"fTitle\":\"\",\"fNdivisions\":510,\"fAxisColor\":1,\"fLabelColor\":1,\"fLabelFont\":42,\"fLabelOffset\":0.005,\"fLabelSize\":0.035,\"fTickLength\":0.03,\"fTitleOffset\":1,\"fTitleSize\":0.035,\"fTitleColor\":1,\"fTitleFont\":42,\"fNbins\":1,\"fXmin\":0,\"fXmax\":1,\"fXbins\":[],\"fFirst\":0,\"fLast\":0,\"fBits2\":0,\"fTimeDisplay\":false,\"fTimeFormat\":\"\",\"fLabels\":null,\"fModLabs\":null},\"fBarOffset\":0,\"fBarWidth\":1000,\"fEntries\":9078950,\"fTsumw\":9078162,\"fTsumw2\":9078162,\"fTsumwx\":804746612.863798,\"fTsumwx2\":73374075469.6277,\"fMaximum\":-1111,\"fMinimum\":-1111,\"fNormFactor\":0,\"fContour\":[],\"fSumw2\":[0,14.75758319996,331.308972626614,347.161807061273,2895.48522684347,102.723674001799,18.74733963188,7.89842308536267,4.12430493076298,2.41216138644921,1.4628351036498,0.964263042634049,0.699144102734999,0.445193077827327,0.32762069537169,0.22752543267078,0.190113124902945,0.156973265256886,0.117214768507342,0.0676563082313123,0.0733120984171759,0.327739662741685],\"fOption\":\"\",\"fFunctions\":{\"_typename\":\"TList\",\"name\":\"TList\",\"arr\":[],\"opt\":[]},\"fBufferSize\":0,\"fBuffer\":[],\"fBinStatErrOpt\":0,\"fArray\":[0,237.7507,6361.051,10586.24,144431.3,5147.538,912.3405,378.0974,197.7268,114.2114,70.69515,46.0644,31.93138,21.60691,15.7288,11.35458,8.761152,7.707296,5.717976,3.400603,3.366125,15.06558]}],\"opt\":[\"\",\"\",\"\",\"\",\"\",\"\",\"\"]},\"fHistogram\":{\"_typename\":\"TH1F\",\"fUniqueID\":0,\"fBits\":50332160,\"fName\":\"Invariant mass\",\"fTitle\":\"\",\"fLineColor\":602,\"fLineStyle\":1,\"fLineWidth\":1,\"fFillColor\":0,\"fFillStyle\":1001,\"fMarkerColor\":1,\"fMarkerStyle\":1,\"fMarkerSize\":1,\"fNcells\":22,\"fXaxis\":{\"_typename\":\"TAxis\",\"fUniqueID\":0,\"fBits\":50331648,\"fName\":\"xaxis\",\"fTitle\":\"m_{ll} (GeV)\",\"fNdivisions\":510,\"fAxisColor\":1,\"fLabelColor\":1,\"fLabelFont\":42,\"fLabelOffset\":0.005,\"fLabelSize\":0.035,\"fTickLength\":0.03,\"fTitleOffset\":1.3,\"fTitleSize\":0.035,\"fTitleColor\":1,\"fTitleFont\":42,\"fNbins\":20,\"fXmin\":0,\"fXmax\":500,\"fXbins\":[],\"fFirst\":0,\"fLast\":0,\"fBits2\":0,\"fTimeDisplay\":false,\"fTimeFormat\":\"\",\"fLabels\":null,\"fModLabs\":null},\"fYaxis\":{\"_typename\":\"TAxis\",\"fUniqueID\":0,\"fBits\":50331648,\"fName\":\"yaxis\",\"fTitle\":\"# events\",\"fNdivisions\":510,\"fAxisColor\":1,\"fLabelColor\":1,\"fLabelFont\":42,\"fLabelOffset\":0.005,\"fLabelSize\":0.035,\"fTickLength\":0.03,\"fTitleOffset\":1.3,\"fTitleSize\":0.035,\"fTitleColor\":1,\"fTitleFont\":42,\"fNbins\":1,\"fXmin\":0,\"fXmax\":1,\"fXbins\":[],\"fFirst\":0,\"fLast\":0,\"fBits2\":0,\"fTimeDisplay\":false,\"fTimeFormat\":\"\",\"fLabels\":null,\"fModLabs\":null},\"fZaxis\":{\"_typename\":\"TAxis\",\"fUniqueID\":0,\"fBits\":50331648,\"fName\":\"zaxis\",\"fTitle\":\"\",\"fNdivisions\":510,\"fAxisColor\":1,\"fLabelColor\":1,\"fLabelFont\":42,\"fLabelOffset\":0.005,\"fLabelSize\":0.035,\"fTickLength\":0.03,\"fTitleOffset\":1,\"fTitleSize\":0.035,\"fTitleColor\":1,\"fTitleFont\":42,\"fNbins\":1,\"fXmin\":0,\"fXmax\":1,\"fXbins\":[],\"fFirst\":0,\"fLast\":0,\"fBits2\":0,\"fTimeDisplay\":false,\"fTimeFormat\":\"\",\"fLabels\":null,\"fModLabs\":null},\"fBarOffset\":0,\"fBarWidth\":1000,\"fEntries\":0,\"fTsumw\":0,\"fTsumw2\":0,\"fTsumwx\":0,\"fTsumwx2\":0,\"fMaximum\":279014.301618295,\"fMinimum\":1.3294507007639,\"fNormFactor\":0,\"fContour\":[],\"fSumw2\":[],\"fOption\":\"\",\"fFunctions\":{\"_typename\":\"TList\",\"name\":\"TList\",\"arr\":[],\"opt\":[]},\"fBufferSize\":0,\"fBuffer\":[],\"fBinStatErrOpt\":0,\"fArray\":[0,0,0,0,0,0,0,0,0,0,0,0,0,0,0,0,0,0,0,0,0,0]},\"fMaximum\":-1111,\"fMinimum\":-1111},{\"_typename\":\"TLegend\",\"fUniqueID\":0,\"fBits\":50331656,\"fLineColor\":1,\"fLineStyle\":1,\"fLineWidth\":1,\"fFillColor\":0,\"fFillStyle\":1001,\"fX1\":343.750001396984,\"fY1\":3.44989363936798,\"fX2\":500.00000372529,\"fY2\":5.11300436023775,\"fX1NDC\":0.65,\"fY1NDC\":0.6,\"fX2NDC\":0.9,\"fY2NDC\":0.85,\"fBorderSize\":0,\"fInit\":1,\"fShadowColor\":1,\"fCornerRadius\":0,\"fOption\":\"brNDC\",\"fName\":\"TPave\",\"fTextAngle\":0,\"fTextSize\":0,\"fTextAlign\":12,\"fTextColor\":1,\"fTextFont\":42,\"fPrimitives\":{\"_typename\":\"TList\",\"name\":\"TList\",\"arr\":[{\"_typename\":\"TLegendEntry\",\"fUniqueID\":0,\"fBits\":50331648,\"fTextAngle\":0,\"fTextSize\":0,\"fTextAlign\":0,\"fTextColor\":0,\"fTextFont\":42,\"fLineColor\":616,\"fLineStyle\":1,\"fLineWidth\":1,\"fFillColor\":616,\"fFillStyle\":1001,\"fMarkerColor\":1,\"fMarkerStyle\":21,\"fMarkerSize\":1,\"fObject\":{\"$ref\":5},\"fLabel\":\"Higgs\",\"fOption\":\"f\"},{\"_typename\":\"TLegendEntry\",\"fUniqueID\":0,\"fBits\":50331648,\"fTextAngle\":0,\"fTextSize\":0,\"fTextAlign\":0,\"fTextColor\":0,\"fTextFont\":42,\"fLineColor\":416,\"fLineStyle\":1,\"fLineWidth\":1,\"fFillColor\":416,\"fFillStyle\":1001,\"fMarkerColor\":1,\"fMarkerStyle\":21,\"fMarkerSize\":1,\"fObject\":{\"$ref\":10},\"fLabel\":\"Diboson\",\"fOption\":\"f\"},{\"_typename\":\"TLegendEntry\",\"fUniqueID\":0,\"fBits\":50331648,\"fTextAngle\":0,\"fTextSize\":0,\"fTextAlign\":0,\"fTextColor\":0,\"fTextFont\":42,\"fLineColor\":603,\"fLineStyle\":1,\"fLineWidth\":1,\"fFillColor\":603,\"fFillStyle\":1001,\"fMarkerColor\":1,\"fMarkerStyle\":21,\"fMarkerSize\":1,\"fObject\":{\"$ref\":15},\"fLabel\":\"Wjets\",\"fOption\":\"f\"},{\"_typename\":\"TLegendEntry\",\"fUniqueID\":0,\"fBits\":50331648,\"fTextAngle\":0,\"fTextSize\":0,\"fTextAlign\":0,\"fTextColor\":0,\"fTextFont\":42,\"fLineColor\":801,\"fLineStyle\":1,\"fLineWidth\":1,\"fFillColor\":801,\"fFillStyle\":1001,\"fMarkerColor\":1,\"fMarkerStyle\":21,\"fMarkerSize\":1,\"fObject\":{\"$ref\":20},\"fLabel\":\"DY\",\"fOption\":\"f\"},{\"_typename\":\"TLegendEntry\",\"fUniqueID\":0,\"fBits\":50331648,\"fTextAngle\":0,\"fTextSize\":0,\"fTextAlign\":0,\"fTextColor\":0,\"fTextFont\":42,\"fLineColor\":593,\"fLineStyle\":1,\"fLineWidth\":1,\"fFillColor\":593,\"fFillStyle\":1001,\"fMarkerColor\":1,\"fMarkerStyle\":21,\"fMarkerSize\":1,\"fObject\":{\"$ref\":25},\"fLabel\":\"singleTop\",\"fOption\":\"f\"},{\"_typename\":\"TLegendEntry\",\"fUniqueID\":0,\"fBits\":50331648,\"fTextAngle\":0,\"fTextSize\":0,\"fTextAlign\":0,\"fTextColor\":0,\"fTextFont\":42,\"fLineColor\":632,\"fLineStyle\":1,\"fLineWidth\":1,\"fFillColor\":632,\"fFillStyle\":1001,\"fMarkerColor\":1,\"fMarkerStyle\":21,\"fMarkerSize\":1,\"fObject\":{\"$ref\":30},\"fLabel\":\"ttbar\",\"fOption\":\"f\"},{\"_typename\":\"TLegendEntry\",\"fUniqueID\":0,\"fBits\":50331648,\"fTextAngle\":0,\"fTextSize\":0,\"fTextAlign\":0,\"fTextColor\":0,\"fTextFont\":42,\"fLineColor\":400,\"fLineStyle\":1,\"fLineWidth\":1,\"fFillColor\":400,\"fFillStyle\":1001,\"fMarkerColor\":1,\"fMarkerStyle\":21,\"fMarkerSize\":1,\"fObject\":{\"$ref\":35},\"fLabel\":\"Zjets\",\"fOption\":\"f\"}],\"opt\":[\"f\",\"f\",\"f\",\"f\",\"f\",\"f\",\"f\"]},\"fEntrySeparation\":0.1,\"fMargin\":0.25,\"fNColumns\":1,\"fColumnSeparation\":0}],\"opt\":[\"\",\"hist\",\"\"]},\"fExecs\":null,\"fName\":\"c\",\"fTitle\":\"c\",\"fNumPaletteColor\":0,\"fNextPaletteColor\":0,\"fDISPLAY\":\"$DISPLAY\",\"fDoubleBuffer\":0,\"fRetained\":true,\"fXsizeUser\":0,\"fYsizeUser\":0,\"fXsizeReal\":20,\"fYsizeReal\":20,\"fWindowTopX\":0,\"fWindowTopY\":0,\"fWindowWidth\":0,\"fWindowHeight\":0,\"fCw\":596,\"fCh\":572,\"fCatt\":{\"_typename\":\"TAttCanvas\",\"fXBetween\":2,\"fYBetween\":2,\"fTitleFromTop\":1.2,\"fXdate\":0.2,\"fYdate\":0.3,\"fAdate\":1},\"kMoveOpaque\":true,\"kResizeOpaque\":true,\"fHighLightColor\":2,\"fBatch\":true,\"kShowEventStatus\":false,\"kAutoExec\":true,\"kMenuBar\":true});\n",
       "       Core.draw(\"root_plot_1\", obj, \"\");\n",
       "     }\n",
       " );\n",
       "</script>\n"
      ],
      "text/plain": [
       "<IPython.core.display.HTML object>"
      ]
     },
     "metadata": {},
     "output_type": "display_data"
    }
   ],
   "source": [
    "stack_mll->Draw(\"hist\"); \n",
    "stack_mll->GetYaxis()->SetTitle(\"# events\");\n",
    "stack_mll->GetYaxis()->SetTitleOffset(1.3); \n",
    "stack_mll->GetXaxis()->SetTitle(\"m_{ll} (GeV)\");\n",
    "stack_mll->GetXaxis()->SetTitleOffset(1.3);\n",
    "leg->Draw();\n",
    "C->Draw();"
   ]
  },
  {
   "cell_type": "code",
   "execution_count": 34,
   "metadata": {
    "scrolled": false
   },
   "outputs": [
    {
     "data": {
      "text/html": [
       "\n",
       "<div id=\"root_plot_2\"\n",
       "     style=\"width: 596px; height: 572px\">\n",
       "</div>\n",
       "\n",
       "<script>\n",
       " requirejs.config({\n",
       "     paths: {\n",
       "       'JSRootCore' : 'https://root.cern.ch/js/notebook//scripts/JSRootCore',\n",
       "     }\n",
       "   });\n",
       " require(['JSRootCore'],\n",
       "     function(Core) {\n",
       "       var obj = Core.JSONR_unref({\"_typename\":\"TCanvas\",\"fUniqueID\":0,\"fBits\":53673992,\"fLineColor\":1,\"fLineStyle\":1,\"fLineWidth\":1,\"fFillColor\":0,\"fFillStyle\":1001,\"fLeftMargin\":0.1,\"fRightMargin\":0.1,\"fBottomMargin\":0.1,\"fTopMargin\":0.1,\"fXfile\":2,\"fYfile\":2,\"fAfile\":1,\"fXstat\":0.99,\"fYstat\":0.99,\"fAstat\":2,\"fFrameFillColor\":0,\"fFrameLineColor\":1,\"fFrameFillStyle\":1001,\"fFrameLineStyle\":1,\"fFrameLineWidth\":1,\"fFrameBorderSize\":1,\"fFrameBorderMode\":0,\"fX1\":-62.5000046566132,\"fY1\":-2.58003579477173,\"fX2\":562.500004656613,\"fY2\":6.33125641833487,\"fXtoAbsPixelk\":59.600053552437,\"fXtoPixelk\":59.600053552437,\"fXtoPixel\":0.953599985790252,\"fYtoAbsPixelk\":406.392140471585,\"fYtoPixelk\":406.392140471585,\"fYtoPixel\":-64.1882216766173,\"fUtoAbsPixelk\":5e-5,\"fUtoPixelk\":5e-5,\"fUtoPixel\":596,\"fVtoAbsPixelk\":572.00005,\"fVtoPixelk\":572,\"fVtoPixel\":-572,\"fAbsPixeltoXk\":-62.5000046566132,\"fPixeltoXk\":-62.5000046566132,\"fPixeltoX\":1.04865773374702,\"fAbsPixeltoYk\":6.33125641833487,\"fPixeltoYk\":-2.58003579477173,\"fPixeltoY\":-0.0155791821907458,\"fXlowNDC\":0,\"fYlowNDC\":0,\"fXUpNDC\":0,\"fYUpNDC\":0,\"fWNDC\":1,\"fHNDC\":1,\"fAbsXlowNDC\":0,\"fAbsYlowNDC\":0,\"fAbsWNDC\":1,\"fAbsHNDC\":1,\"fUxmin\":0,\"fUymin\":-1.68890652034563,\"fUxmax\":500,\"fUymax\":5.44012714390876,\"fTheta\":30,\"fPhi\":30,\"fAspectRatio\":0,\"fNumber\":0,\"fTickx\":0,\"fTicky\":0,\"fLogx\":0,\"fLogy\":1,\"fLogz\":0,\"fPadPaint\":0,\"fCrosshair\":0,\"fCrosshairPos\":0,\"fBorderSize\":2,\"fBorderMode\":0,\"fModified\":false,\"fGridx\":false,\"fGridy\":false,\"fAbsCoord\":false,\"fEditable\":true,\"fFixedAspectRatio\":false,\"fPrimitives\":{\"_typename\":\"TList\",\"name\":\"TList\",\"arr\":[{\"_typename\":\"TFrame\",\"fUniqueID\":0,\"fBits\":50331656,\"fLineColor\":1,\"fLineStyle\":1,\"fLineWidth\":1,\"fFillColor\":0,\"fFillStyle\":1001,\"fX1\":0,\"fY1\":-1.68890652034563,\"fX2\":500,\"fY2\":5.44012714390876,\"fBorderSize\":1,\"fBorderMode\":0},{\"_typename\":\"THStack\",\"fUniqueID\":0,\"fBits\":50331656,\"fName\":\"Missing ET\",\"fTitle\":\"\",\"fHists\":{\"_typename\":\"TList\",\"name\":\"TList\",\"arr\":[{\"_typename\":\"TH1F\",\"fUniqueID\":0,\"fBits\":50331648,\"fName\":\"hist_met\",\"fTitle\":\"Missing ET\",\"fLineColor\":616,\"fLineStyle\":1,\"fLineWidth\":1,\"fFillColor\":616,\"fFillStyle\":1001,\"fMarkerColor\":1,\"fMarkerStyle\":1,\"fMarkerSize\":1,\"fNcells\":22,\"fXaxis\":{\"_typename\":\"TAxis\",\"fUniqueID\":0,\"fBits\":50331648,\"fName\":\"xaxis\",\"fTitle\":\"\",\"fNdivisions\":510,\"fAxisColor\":1,\"fLabelColor\":1,\"fLabelFont\":42,\"fLabelOffset\":0.005,\"fLabelSize\":0.035,\"fTickLength\":0.03,\"fTitleOffset\":1,\"fTitleSize\":0.035,\"fTitleColor\":1,\"fTitleFont\":42,\"fNbins\":20,\"fXmin\":0,\"fXmax\":500,\"fXbins\":[],\"fFirst\":1,\"fLast\":1,\"fBits2\":0,\"fTimeDisplay\":false,\"fTimeFormat\":\"\",\"fLabels\":null,\"fModLabs\":null},\"fYaxis\":{\"_typename\":\"TAxis\",\"fUniqueID\":0,\"fBits\":50331648,\"fName\":\"yaxis\",\"fTitle\":\"\",\"fNdivisions\":510,\"fAxisColor\":1,\"fLabelColor\":1,\"fLabelFont\":42,\"fLabelOffset\":0.005,\"fLabelSize\":0.035,\"fTickLength\":0.03,\"fTitleOffset\":0,\"fTitleSize\":0.035,\"fTitleColor\":1,\"fTitleFont\":42,\"fNbins\":1,\"fXmin\":0,\"fXmax\":1,\"fXbins\":[],\"fFirst\":0,\"fLast\":0,\"fBits2\":0,\"fTimeDisplay\":false,\"fTimeFormat\":\"\",\"fLabels\":null,\"fModLabs\":null},\"fZaxis\":{\"_typename\":\"TAxis\",\"fUniqueID\":0,\"fBits\":50331648,\"fName\":\"zaxis\",\"fTitle\":\"\",\"fNdivisions\":510,\"fAxisColor\":1,\"fLabelColor\":1,\"fLabelFont\":42,\"fLabelOffset\":0.005,\"fLabelSize\":0.035,\"fTickLength\":0.03,\"fTitleOffset\":1,\"fTitleSize\":0.035,\"fTitleColor\":1,\"fTitleFont\":42,\"fNbins\":1,\"fXmin\":0,\"fXmax\":1,\"fXbins\":[],\"fFirst\":0,\"fLast\":0,\"fBits2\":0,\"fTimeDisplay\":false,\"fTimeFormat\":\"\",\"fLabels\":null,\"fModLabs\":null},\"fBarOffset\":0,\"fBarWidth\":1000,\"fEntries\":123844,\"fTsumw\":123840,\"fTsumw2\":123840,\"fTsumwx\":5900322.69363046,\"fTsumwx2\":421768284.226424,\"fMaximum\":-1111,\"fMinimum\":-1111,\"fNormFactor\":0,\"fContour\":[],\"fSumw2\":[0,0.00100623342262397,0.00264441851131891,0.00214533940607732,7.80746519374008e-4,2.26661454656113e-4,7.80284679774542e-5,3.44984650933833e-5,1.6201464708625e-5,9.44476618831332e-6,3.61449794442937e-6,3.68955642820539e-6,2.63924933749431e-6,8.0249551451182e-7,4.24934506934812e-7,5.7362335069174e-7,7.47823558332859e-7,2.14289493744848e-7,3.77556259721314e-7,7.26505316140858e-10,3.6662281805666e-7,1.88782877716351e-7],\"fOption\":\"\",\"fFunctions\":{\"_typename\":\"TList\",\"name\":\"TList\",\"arr\":[],\"opt\":[]},\"fBufferSize\":0,\"fBuffer\":[],\"fBinStatErrOpt\":0,\"fArray\":[0,2.930037,7.060259,5.623863,2.14398,0.6834824,0.2532305,0.1123713,0.05432861,0.03261869,0.01346383,0.01210564,0.007594194,0.002974001,0.001878313,0.001761003,0.002066279,9.693413e-4,0.001093509,2.695376e-5,9.124005e-4,5.489335e-4]},{\"_typename\":\"TH1F\",\"fUniqueID\":0,\"fBits\":50331648,\"fName\":\"hist_met\",\"fTitle\":\"Missing ET\",\"fLineColor\":416,\"fLineStyle\":1,\"fLineWidth\":1,\"fFillColor\":416,\"fFillStyle\":1001,\"fMarkerColor\":1,\"fMarkerStyle\":1,\"fMarkerSize\":1,\"fNcells\":22,\"fXaxis\":{\"_typename\":\"TAxis\",\"fUniqueID\":0,\"fBits\":50331648,\"fName\":\"xaxis\",\"fTitle\":\"\",\"fNdivisions\":510,\"fAxisColor\":1,\"fLabelColor\":1,\"fLabelFont\":42,\"fLabelOffset\":0.005,\"fLabelSize\":0.035,\"fTickLength\":0.03,\"fTitleOffset\":1,\"fTitleSize\":0.035,\"fTitleColor\":1,\"fTitleFont\":42,\"fNbins\":20,\"fXmin\":0,\"fXmax\":500,\"fXbins\":[],\"fFirst\":1,\"fLast\":1,\"fBits2\":0,\"fTimeDisplay\":false,\"fTimeFormat\":\"\",\"fLabels\":null,\"fModLabs\":null},\"fYaxis\":{\"_typename\":\"TAxis\",\"fUniqueID\":0,\"fBits\":50331648,\"fName\":\"yaxis\",\"fTitle\":\"\",\"fNdivisions\":510,\"fAxisColor\":1,\"fLabelColor\":1,\"fLabelFont\":42,\"fLabelOffset\":0.005,\"fLabelSize\":0.035,\"fTickLength\":0.03,\"fTitleOffset\":0,\"fTitleSize\":0.035,\"fTitleColor\":1,\"fTitleFont\":42,\"fNbins\":1,\"fXmin\":0,\"fXmax\":1,\"fXbins\":[],\"fFirst\":0,\"fLast\":0,\"fBits2\":0,\"fTimeDisplay\":false,\"fTimeFormat\":\"\",\"fLabels\":null,\"fModLabs\":null},\"fZaxis\":{\"_typename\":\"TAxis\",\"fUniqueID\":0,\"fBits\":50331648,\"fName\":\"zaxis\",\"fTitle\":\"\",\"fNdivisions\":510,\"fAxisColor\":1,\"fLabelColor\":1,\"fLabelFont\":42,\"fLabelOffset\":0.005,\"fLabelSize\":0.035,\"fTickLength\":0.03,\"fTitleOffset\":1,\"fTitleSize\":0.035,\"fTitleColor\":1,\"fTitleFont\":42,\"fNbins\":1,\"fXmin\":0,\"fXmax\":1,\"fXbins\":[],\"fFirst\":0,\"fLast\":0,\"fBits2\":0,\"fTimeDisplay\":false,\"fTimeFormat\":\"\",\"fLabels\":null,\"fModLabs\":null},\"fBarOffset\":0,\"fBarWidth\":1000,\"fEntries\":198152,\"fTsumw\":198143,\"fTsumw2\":198143,\"fTsumwx\":7529525.53314016,\"fTsumwx2\":463282998.548101,\"fMaximum\":-1111,\"fMinimum\":-1111,\"fNormFactor\":0,\"fContour\":[],\"fSumw2\":[0,3.64565345040034,3.52788820905709,1.54103054680457,0.596011679490078,0.223427670310742,0.0861511421680377,0.0371536130235973,0.0177897368589262,0.0111616342030806,0.00653273006927186,0.00277223414966953,0.00236842503049946,0.0016213410464268,0.0012786612116106,3.46040083093747e-4,4.22143725131795e-4,1.18303290343804e-4,5.71011657652534e-4,1.09433502406138e-4,3.94344301146015e-5,3.91579082954859e-4],\"fOption\":\"\",\"fFunctions\":{\"_typename\":\"TList\",\"name\":\"TList\",\"arr\":[],\"opt\":[]},\"fBufferSize\":0,\"fBuffer\":[],\"fBinStatErrOpt\":0,\"fArray\":[0,531.8057,501.5481,210.8501,80.53236,30.67764,12.14379,5.300427,2.559648,1.613872,0.9471626,0.4094181,0.3494304,0.2406309,0.184817,0.05232433,0.06137126,0.01883905,0.08229718,0.01464623,0.006279684,0.0592844]},{\"_typename\":\"TH1F\",\"fUniqueID\":0,\"fBits\":50331648,\"fName\":\"hist_met\",\"fTitle\":\"Missing ET\",\"fLineColor\":603,\"fLineStyle\":1,\"fLineWidth\":1,\"fFillColor\":603,\"fFillStyle\":1001,\"fMarkerColor\":1,\"fMarkerStyle\":1,\"fMarkerSize\":1,\"fNcells\":22,\"fXaxis\":{\"_typename\":\"TAxis\",\"fUniqueID\":0,\"fBits\":50331648,\"fName\":\"xaxis\",\"fTitle\":\"\",\"fNdivisions\":510,\"fAxisColor\":1,\"fLabelColor\":1,\"fLabelFont\":42,\"fLabelOffset\":0.005,\"fLabelSize\":0.035,\"fTickLength\":0.03,\"fTitleOffset\":1,\"fTitleSize\":0.035,\"fTitleColor\":1,\"fTitleFont\":42,\"fNbins\":20,\"fXmin\":0,\"fXmax\":500,\"fXbins\":[],\"fFirst\":1,\"fLast\":1,\"fBits2\":0,\"fTimeDisplay\":false,\"fTimeFormat\":\"\",\"fLabels\":null,\"fModLabs\":null},\"fYaxis\":{\"_typename\":\"TAxis\",\"fUniqueID\":0,\"fBits\":50331648,\"fName\":\"yaxis\",\"fTitle\":\"\",\"fNdivisions\":510,\"fAxisColor\":1,\"fLabelColor\":1,\"fLabelFont\":42,\"fLabelOffset\":0.005,\"fLabelSize\":0.035,\"fTickLength\":0.03,\"fTitleOffset\":0,\"fTitleSize\":0.035,\"fTitleColor\":1,\"fTitleFont\":42,\"fNbins\":1,\"fXmin\":0,\"fXmax\":1,\"fXbins\":[],\"fFirst\":0,\"fLast\":0,\"fBits2\":0,\"fTimeDisplay\":false,\"fTimeFormat\":\"\",\"fLabels\":null,\"fModLabs\":null},\"fZaxis\":{\"_typename\":\"TAxis\",\"fUniqueID\":0,\"fBits\":50331648,\"fName\":\"zaxis\",\"fTitle\":\"\",\"fNdivisions\":510,\"fAxisColor\":1,\"fLabelColor\":1,\"fLabelFont\":42,\"fLabelOffset\":0.005,\"fLabelSize\":0.035,\"fTickLength\":0.03,\"fTitleOffset\":1,\"fTitleSize\":0.035,\"fTitleColor\":1,\"fTitleFont\":42,\"fNbins\":1,\"fXmin\":0,\"fXmax\":1,\"fXbins\":[],\"fFirst\":0,\"fLast\":0,\"fBits2\":0,\"fTimeDisplay\":false,\"fTimeFormat\":\"\",\"fLabels\":null,\"fModLabs\":null},\"fBarOffset\":0,\"fBarWidth\":1000,\"fEntries\":78868,\"fTsumw\":78868,\"fTsumw2\":78868,\"fTsumwx\":3466126.22573975,\"fTsumwx2\":205237983.837643,\"fMaximum\":-1111,\"fMinimum\":-1111,\"fNormFactor\":0,\"fContour\":[],\"fSumw2\":[0,1263.84510681351,2786.89926478,1440.48603428198,348.895656386182,75.2235660367951,18.3380934158065,8.80503794606997,5.20491923444616,3.85298160074893,1.45975953268002,1.41865070271014,0.502805532207767,0.480796385135868,0.0200406016955837,0.468933410444625,0.0110492962798954,4.83525476894854e-4,0.00742868909460507,3.40663732364225e-4,0,0],\"fOption\":\"\",\"fFunctions\":{\"_typename\":\"TList\",\"name\":\"TList\",\"arr\":[],\"opt\":[]},\"fBufferSize\":0,\"fBuffer\":[],\"fBinStatErrOpt\":0,\"fArray\":[0,3113.426,6662.272,3451.942,853.8607,188.1879,48.82755,23.2156,13.12107,9.603334,3.863319,3.370632,1.467936,1.252451,0.2408032,1.056797,0.1150858,0.04396354,0.09587055,0.03194965,0,0]},{\"_typename\":\"TH1F\",\"fUniqueID\":0,\"fBits\":50331648,\"fName\":\"hist_met\",\"fTitle\":\"Missing ET\",\"fLineColor\":801,\"fLineStyle\":1,\"fLineWidth\":1,\"fFillColor\":801,\"fFillStyle\":1001,\"fMarkerColor\":1,\"fMarkerStyle\":1,\"fMarkerSize\":1,\"fNcells\":22,\"fXaxis\":{\"_typename\":\"TAxis\",\"fUniqueID\":0,\"fBits\":50331648,\"fName\":\"xaxis\",\"fTitle\":\"\",\"fNdivisions\":510,\"fAxisColor\":1,\"fLabelColor\":1,\"fLabelFont\":42,\"fLabelOffset\":0.005,\"fLabelSize\":0.035,\"fTickLength\":0.03,\"fTitleOffset\":1,\"fTitleSize\":0.035,\"fTitleColor\":1,\"fTitleFont\":42,\"fNbins\":20,\"fXmin\":0,\"fXmax\":500,\"fXbins\":[],\"fFirst\":1,\"fLast\":1,\"fBits2\":0,\"fTimeDisplay\":false,\"fTimeFormat\":\"\",\"fLabels\":null,\"fModLabs\":null},\"fYaxis\":{\"_typename\":\"TAxis\",\"fUniqueID\":0,\"fBits\":50331648,\"fName\":\"yaxis\",\"fTitle\":\"\",\"fNdivisions\":510,\"fAxisColor\":1,\"fLabelColor\":1,\"fLabelFont\":42,\"fLabelOffset\":0.005,\"fLabelSize\":0.035,\"fTickLength\":0.03,\"fTitleOffset\":0,\"fTitleSize\":0.035,\"fTitleColor\":1,\"fTitleFont\":42,\"fNbins\":1,\"fXmin\":0,\"fXmax\":1,\"fXbins\":[],\"fFirst\":0,\"fLast\":0,\"fBits2\":0,\"fTimeDisplay\":false,\"fTimeFormat\":\"\",\"fLabels\":null,\"fModLabs\":null},\"fZaxis\":{\"_typename\":\"TAxis\",\"fUniqueID\":0,\"fBits\":50331648,\"fName\":\"zaxis\",\"fTitle\":\"\",\"fNdivisions\":510,\"fAxisColor\":1,\"fLabelColor\":1,\"fLabelFont\":42,\"fLabelOffset\":0.005,\"fLabelSize\":0.035,\"fTickLength\":0.03,\"fTitleOffset\":1,\"fTitleSize\":0.035,\"fTitleColor\":1,\"fTitleFont\":42,\"fNbins\":1,\"fXmin\":0,\"fXmax\":1,\"fXbins\":[],\"fFirst\":0,\"fLast\":0,\"fBits2\":0,\"fTimeDisplay\":false,\"fTimeFormat\":\"\",\"fLabels\":null,\"fModLabs\":null},\"fBarOffset\":0,\"fBarWidth\":1000,\"fEntries\":1703545,\"fTsumw\":1703544,\"fTsumw2\":1703544,\"fTsumwx\":44643409.0441858,\"fTsumwx2\":1614834587.18526,\"fMaximum\":-1111,\"fMinimum\":-1111,\"fNormFactor\":0,\"fContour\":[],\"fSumw2\":[0,333.427343068495,225.61147171555,43.8515310023763,6.29139070517959,0.837227062618495,0.126780904337533,0.0305210462431789,0.00553244880864478,0.00719790617351006,0.00238794701836694,0.00109662820824602,0.0021668338250078,3.48706710296884e-4,0,0,0,0,0,0,0,3.48706710296884e-4],\"fOption\":\"\",\"fFunctions\":{\"_typename\":\"TList\",\"name\":\"TList\",\"arr\":[],\"opt\":[]},\"fBufferSize\":0,\"fBuffer\":[],\"fBinStatErrOpt\":0,\"fArray\":[0,17609.01,11913.2,2312.686,330.7014,43.69172,6.307145,1.479675,0.2781688,0.2684827,0.1196499,0.05731001,0.07705109,0.01867369,0,0,0,0,0,0,0,0.01867369]},{\"_typename\":\"TH1F\",\"fUniqueID\":0,\"fBits\":50331648,\"fName\":\"hist_met\",\"fTitle\":\"Missing ET\",\"fLineColor\":593,\"fLineStyle\":1,\"fLineWidth\":1,\"fFillColor\":593,\"fFillStyle\":1001,\"fMarkerColor\":1,\"fMarkerStyle\":1,\"fMarkerSize\":1,\"fNcells\":22,\"fXaxis\":{\"_typename\":\"TAxis\",\"fUniqueID\":0,\"fBits\":50331648,\"fName\":\"xaxis\",\"fTitle\":\"\",\"fNdivisions\":510,\"fAxisColor\":1,\"fLabelColor\":1,\"fLabelFont\":42,\"fLabelOffset\":0.005,\"fLabelSize\":0.035,\"fTickLength\":0.03,\"fTitleOffset\":1,\"fTitleSize\":0.035,\"fTitleColor\":1,\"fTitleFont\":42,\"fNbins\":20,\"fXmin\":0,\"fXmax\":500,\"fXbins\":[],\"fFirst\":1,\"fLast\":1,\"fBits2\":0,\"fTimeDisplay\":false,\"fTimeFormat\":\"\",\"fLabels\":null,\"fModLabs\":null},\"fYaxis\":{\"_typename\":\"TAxis\",\"fUniqueID\":0,\"fBits\":50331648,\"fName\":\"yaxis\",\"fTitle\":\"\",\"fNdivisions\":510,\"fAxisColor\":1,\"fLabelColor\":1,\"fLabelFont\":42,\"fLabelOffset\":0.005,\"fLabelSize\":0.035,\"fTickLength\":0.03,\"fTitleOffset\":0,\"fTitleSize\":0.035,\"fTitleColor\":1,\"fTitleFont\":42,\"fNbins\":1,\"fXmin\":0,\"fXmax\":1,\"fXbins\":[],\"fFirst\":0,\"fLast\":0,\"fBits2\":0,\"fTimeDisplay\":false,\"fTimeFormat\":\"\",\"fLabels\":null,\"fModLabs\":null},\"fZaxis\":{\"_typename\":\"TAxis\",\"fUniqueID\":0,\"fBits\":50331648,\"fName\":\"zaxis\",\"fTitle\":\"\",\"fNdivisions\":510,\"fAxisColor\":1,\"fLabelColor\":1,\"fLabelFont\":42,\"fLabelOffset\":0.005,\"fLabelSize\":0.035,\"fTickLength\":0.03,\"fTitleOffset\":1,\"fTitleSize\":0.035,\"fTitleColor\":1,\"fTitleFont\":42,\"fNbins\":1,\"fXmin\":0,\"fXmax\":1,\"fXbins\":[],\"fFirst\":0,\"fLast\":0,\"fBits2\":0,\"fTimeDisplay\":false,\"fTimeFormat\":\"\",\"fLabels\":null,\"fModLabs\":null},\"fBarOffset\":0,\"fBarWidth\":1000,\"fEntries\":19038,\"fTsumw\":19032,\"fTsumw2\":19032,\"fTsumwx\":1258587.70759666,\"fTsumwx2\":115866981.45631,\"fMaximum\":-1111,\"fMinimum\":-1111,\"fNormFactor\":0,\"fContour\":[],\"fSumw2\":[0,0.598273467167534,1.47559121224564,1.6282786844154,1.13847747067833,0.661772129538676,0.338092711664884,0.147320756437725,0.0738672920163813,0.0394075144098161,0.0219629933606511,0.0089998380071449,0.00697558851591481,0.0055079820549181,0.00498265512022056,0.00249128161282672,5.11837575915001e-4,4.98440111699587e-4,9.96512645130688e-4,4.98348217132465e-4,0,0.00249137350739384],\"fOption\":\"\",\"fFunctions\":{\"_typename\":\"TList\",\"name\":\"TList\",\"arr\":[],\"opt\":[]},\"fBufferSize\":0,\"fBuffer\":[],\"fBinStatErrOpt\":0,\"fArray\":[0,28.82214,70.75494,76.65054,52.75983,30.21456,15.35862,6.690404,3.342664,1.777998,0.9967821,0.4111757,0.3125032,0.2529088,0.2235197,0.1116083,0.02600693,0.02292794,0.04464331,0.0226248,0,0.1119114]},{\"_typename\":\"TH1F\",\"fUniqueID\":0,\"fBits\":50331648,\"fName\":\"hist_met\",\"fTitle\":\"Missing ET\",\"fLineColor\":632,\"fLineStyle\":1,\"fLineWidth\":1,\"fFillColor\":632,\"fFillStyle\":1001,\"fMarkerColor\":1,\"fMarkerStyle\":1,\"fMarkerSize\":1,\"fNcells\":22,\"fXaxis\":{\"_typename\":\"TAxis\",\"fUniqueID\":0,\"fBits\":50331648,\"fName\":\"xaxis\",\"fTitle\":\"\",\"fNdivisions\":510,\"fAxisColor\":1,\"fLabelColor\":1,\"fLabelFont\":42,\"fLabelOffset\":0.005,\"fLabelSize\":0.035,\"fTickLength\":0.03,\"fTitleOffset\":1,\"fTitleSize\":0.035,\"fTitleColor\":1,\"fTitleFont\":42,\"fNbins\":20,\"fXmin\":0,\"fXmax\":500,\"fXbins\":[],\"fFirst\":1,\"fLast\":1,\"fBits2\":0,\"fTimeDisplay\":false,\"fTimeFormat\":\"\",\"fLabels\":null,\"fModLabs\":null},\"fYaxis\":{\"_typename\":\"TAxis\",\"fUniqueID\":0,\"fBits\":50331648,\"fName\":\"yaxis\",\"fTitle\":\"\",\"fNdivisions\":510,\"fAxisColor\":1,\"fLabelColor\":1,\"fLabelFont\":42,\"fLabelOffset\":0.005,\"fLabelSize\":0.035,\"fTickLength\":0.03,\"fTitleOffset\":0,\"fTitleSize\":0.035,\"fTitleColor\":1,\"fTitleFont\":42,\"fNbins\":1,\"fXmin\":0,\"fXmax\":1,\"fXbins\":[],\"fFirst\":0,\"fLast\":0,\"fBits2\":0,\"fTimeDisplay\":false,\"fTimeFormat\":\"\",\"fLabels\":null,\"fModLabs\":null},\"fZaxis\":{\"_typename\":\"TAxis\",\"fUniqueID\":0,\"fBits\":50331648,\"fName\":\"zaxis\",\"fTitle\":\"\",\"fNdivisions\":510,\"fAxisColor\":1,\"fLabelColor\":1,\"fLabelFont\":42,\"fLabelOffset\":0.005,\"fLabelSize\":0.035,\"fTickLength\":0.03,\"fTitleOffset\":1,\"fTitleSize\":0.035,\"fTitleColor\":1,\"fTitleFont\":42,\"fNbins\":1,\"fXmin\":0,\"fXmax\":1,\"fXbins\":[],\"fFirst\":0,\"fLast\":0,\"fBits2\":0,\"fTimeDisplay\":false,\"fTimeFormat\":\"\",\"fLabels\":null,\"fModLabs\":null},\"fBarOffset\":0,\"fBarWidth\":1000,\"fEntries\":125131,\"fTsumw\":125124,\"fTsumw2\":125124,\"fTsumwx\":9588022.35144712,\"fTsumwx2\":989642251.128699,\"fMaximum\":-1111,\"fMinimum\":-1111,\"fNormFactor\":0,\"fContour\":[],\"fSumw2\":[0,0.122475290873361,0.256530474305579,0.249288605159466,0.188723608102555,0.117787642838534,0.0624459433892798,0.030433234179914,0.0144797806527726,0.00665797847343041,0.00380887758298403,0.00172306366849277,0.00109580803478707,7.55729679163497e-4,2.94734574873764e-4,1.81375122999239e-4,2.26718903749049e-4,1.0580215508289e-4,8.31302647079847e-5,4.53437807498098e-5,7.55729679163497e-6,5.29010775414448e-5],\"fOption\":\"\",\"fFunctions\":{\"_typename\":\"TList\",\"name\":\"TList\",\"arr\":[],\"opt\":[]},\"fBufferSize\":0,\"fBuffer\":[],\"fBinStatErrOpt\":0,\"fArray\":[0,33.47131,78.49046,85.27649,67.29911,42.61496,22.71543,11.07044,5.267187,2.421916,1.385523,0.6267843,0.3986128,0.2749054,0.1072131,0.06597729,0.08247162,0.03848675,0.03023959,0.01649432,0.002749054,0.01924338]},{\"_typename\":\"TH1F\",\"fUniqueID\":0,\"fBits\":50331648,\"fName\":\"hist_met\",\"fTitle\":\"Missing ET\",\"fLineColor\":400,\"fLineStyle\":1,\"fLineWidth\":1,\"fFillColor\":400,\"fFillStyle\":1001,\"fMarkerColor\":1,\"fMarkerStyle\":1,\"fMarkerSize\":1,\"fNcells\":22,\"fXaxis\":{\"_typename\":\"TAxis\",\"fUniqueID\":0,\"fBits\":50331648,\"fName\":\"xaxis\",\"fTitle\":\"\",\"fNdivisions\":510,\"fAxisColor\":1,\"fLabelColor\":1,\"fLabelFont\":42,\"fLabelOffset\":0.005,\"fLabelSize\":0.035,\"fTickLength\":0.03,\"fTitleOffset\":1,\"fTitleSize\":0.035,\"fTitleColor\":1,\"fTitleFont\":42,\"fNbins\":20,\"fXmin\":0,\"fXmax\":500,\"fXbins\":[],\"fFirst\":1,\"fLast\":1,\"fBits2\":0,\"fTimeDisplay\":false,\"fTimeFormat\":\"\",\"fLabels\":null,\"fModLabs\":null},\"fYaxis\":{\"_typename\":\"TAxis\",\"fUniqueID\":0,\"fBits\":50331648,\"fName\":\"yaxis\",\"fTitle\":\"\",\"fNdivisions\":510,\"fAxisColor\":1,\"fLabelColor\":1,\"fLabelFont\":42,\"fLabelOffset\":0.005,\"fLabelSize\":0.035,\"fTickLength\":0.03,\"fTitleOffset\":0,\"fTitleSize\":0.035,\"fTitleColor\":1,\"fTitleFont\":42,\"fNbins\":1,\"fXmin\":0,\"fXmax\":1,\"fXbins\":[],\"fFirst\":0,\"fLast\":0,\"fBits2\":0,\"fTimeDisplay\":false,\"fTimeFormat\":\"\",\"fLabels\":null,\"fModLabs\":null},\"fZaxis\":{\"_typename\":\"TAxis\",\"fUniqueID\":0,\"fBits\":50331648,\"fName\":\"zaxis\",\"fTitle\":\"\",\"fNdivisions\":510,\"fAxisColor\":1,\"fLabelColor\":1,\"fLabelFont\":42,\"fLabelOffset\":0.005,\"fLabelSize\":0.035,\"fTickLength\":0.03,\"fTitleOffset\":1,\"fTitleSize\":0.035,\"fTitleColor\":1,\"fTitleFont\":42,\"fNbins\":1,\"fXmin\":0,\"fXmax\":1,\"fXbins\":[],\"fFirst\":0,\"fLast\":0,\"fBits2\":0,\"fTimeDisplay\":false,\"fTimeFormat\":\"\",\"fLabels\":null,\"fModLabs\":null},\"fBarOffset\":0,\"fBarWidth\":1000,\"fEntries\":9078950,\"fTsumw\":9078932,\"fTsumw2\":9078932,\"fTsumwx\":216124433.334271,\"fTsumwx2\":7129024842.50708,\"fMaximum\":-1111,\"fMinimum\":-1111,\"fNormFactor\":0,\"fContour\":[],\"fSumw2\":[0,2184.6315338236,1265.52834985185,224.984001287031,38.5914903108043,9.2441221629978,3.16044607136837,1.51377171267944,0.675029887535004,0.593826139845947,0.257158452188519,0.21492582664454,0.0772501231214837,0.0624301740695857,0.0483340484871272,0.0139290604072122,0.0209771231984415,0.0283035651367674,3.34130350492462e-4,0.006880997615983,0.006880997615983,0.0191077039699631],\"fOption\":\"\",\"fFunctions\":{\"_typename\":\"TList\",\"name\":\"TList\",\"arr\":[],\"opt\":[]},\"fBufferSize\":0,\"fBuffer\":[],\"fBinStatErrOpt\":0,\"fArray\":[0,102016.1,56340.02,8826.661,1149.164,183.6942,47.06607,19.58719,8.45112,7.247978,3.222116,2.673806,0.9878182,0.7853421,0.5935878,0.1788289,0.2747061,0.3694814,0.02585074,0.08295178,0.08295178,0.4436508]}],\"opt\":[\"\",\"\",\"\",\"\",\"\",\"\",\"\"]},\"fHistogram\":{\"_typename\":\"TH1F\",\"fUniqueID\":0,\"fBits\":50332160,\"fName\":\"Missing ET\",\"fTitle\":\"\",\"fLineColor\":602,\"fLineStyle\":1,\"fLineWidth\":1,\"fFillColor\":0,\"fFillStyle\":1001,\"fMarkerColor\":1,\"fMarkerStyle\":1,\"fMarkerSize\":1,\"fNcells\":22,\"fXaxis\":{\"_typename\":\"TAxis\",\"fUniqueID\":0,\"fBits\":50331648,\"fName\":\"xaxis\",\"fTitle\":\"E_{T}^{miss} (GeV)\",\"fNdivisions\":510,\"fAxisColor\":1,\"fLabelColor\":1,\"fLabelFont\":42,\"fLabelOffset\":0.005,\"fLabelSize\":0.035,\"fTickLength\":0.03,\"fTitleOffset\":1.3,\"fTitleSize\":0.035,\"fTitleColor\":1,\"fTitleFont\":42,\"fNbins\":20,\"fXmin\":0,\"fXmax\":500,\"fXbins\":[],\"fFirst\":0,\"fLast\":0,\"fBits2\":0,\"fTimeDisplay\":false,\"fTimeFormat\":\"\",\"fLabels\":null,\"fModLabs\":null},\"fYaxis\":{\"_typename\":\"TAxis\",\"fUniqueID\":0,\"fBits\":50331648,\"fName\":\"yaxis\",\"fTitle\":\"# events\",\"fNdivisions\":510,\"fAxisColor\":1,\"fLabelColor\":1,\"fLabelFont\":42,\"fLabelOffset\":0.005,\"fLabelSize\":0.035,\"fTickLength\":0.03,\"fTitleOffset\":1.3,\"fTitleSize\":0.035,\"fTitleColor\":1,\"fTitleFont\":42,\"fNbins\":1,\"fXmin\":0,\"fXmax\":1,\"fXbins\":[],\"fFirst\":0,\"fLast\":0,\"fBits2\":0,\"fTimeDisplay\":false,\"fTimeFormat\":\"\",\"fLabels\":null,\"fModLabs\":null},\"fZaxis\":{\"_typename\":\"TAxis\",\"fUniqueID\":0,\"fBits\":50331648,\"fName\":\"zaxis\",\"fTitle\":\"\",\"fNdivisions\":510,\"fAxisColor\":1,\"fLabelColor\":1,\"fLabelFont\":42,\"fLabelOffset\":0.005,\"fLabelSize\":0.035,\"fTickLength\":0.03,\"fTitleOffset\":1,\"fTitleSize\":0.035,\"fTitleColor\":1,\"fTitleFont\":42,\"fNbins\":1,\"fXmin\":0,\"fXmax\":1,\"fXbins\":[],\"fFirst\":0,\"fLast\":0,\"fBits2\":0,\"fTimeDisplay\":false,\"fTimeFormat\":\"\",\"fLabels\":null,\"fModLabs\":null},\"fBarOffset\":0,\"fBarWidth\":1000,\"fEntries\":0,\"fTsumw\":0,\"fTsumw2\":0,\"fTsumwx\":0,\"fTsumwx2\":0,\"fMaximum\":275503.514846321,\"fMinimum\":0.0204688517082089,\"fNormFactor\":0,\"fContour\":[],\"fSumw2\":[],\"fOption\":\"\",\"fFunctions\":{\"_typename\":\"TList\",\"name\":\"TList\",\"arr\":[],\"opt\":[]},\"fBufferSize\":0,\"fBuffer\":[],\"fBinStatErrOpt\":0,\"fArray\":[0,0,0,0,0,0,0,0,0,0,0,0,0,0,0,0,0,0,0,0,0,0]},\"fMaximum\":-1111,\"fMinimum\":-1111},{\"_typename\":\"TLegend\",\"fUniqueID\":0,\"fBits\":50331656,\"fLineColor\":1,\"fLineStyle\":1,\"fLineWidth\":1,\"fFillColor\":0,\"fFillStyle\":1001,\"fX1\":343.750001396984,\"fY1\":2.76673953309223,\"fX2\":500.00000372529,\"fY2\":4.99456258636888,\"fX1NDC\":0.65,\"fY1NDC\":0.6,\"fX2NDC\":0.9,\"fY2NDC\":0.85,\"fBorderSize\":0,\"fInit\":1,\"fShadowColor\":1,\"fCornerRadius\":0,\"fOption\":\"brNDC\",\"fName\":\"TPave\",\"fTextAngle\":0,\"fTextSize\":0,\"fTextAlign\":12,\"fTextColor\":1,\"fTextFont\":42,\"fPrimitives\":{\"_typename\":\"TList\",\"name\":\"TList\",\"arr\":[{\"_typename\":\"TLegendEntry\",\"fUniqueID\":0,\"fBits\":50331648,\"fTextAngle\":0,\"fTextSize\":0,\"fTextAlign\":0,\"fTextColor\":0,\"fTextFont\":42,\"fLineColor\":616,\"fLineStyle\":1,\"fLineWidth\":1,\"fFillColor\":616,\"fFillStyle\":1001,\"fMarkerColor\":1,\"fMarkerStyle\":21,\"fMarkerSize\":1,\"fObject\":{\"_typename\":\"TH1F\",\"fUniqueID\":0,\"fBits\":50331648,\"fName\":\"hist_mll\",\"fTitle\":\"Invariant mass\",\"fLineColor\":616,\"fLineStyle\":1,\"fLineWidth\":1,\"fFillColor\":616,\"fFillStyle\":1001,\"fMarkerColor\":1,\"fMarkerStyle\":1,\"fMarkerSize\":1,\"fNcells\":22,\"fXaxis\":{\"_typename\":\"TAxis\",\"fUniqueID\":0,\"fBits\":50331648,\"fName\":\"xaxis\",\"fTitle\":\"\",\"fNdivisions\":510,\"fAxisColor\":1,\"fLabelColor\":1,\"fLabelFont\":42,\"fLabelOffset\":0.005,\"fLabelSize\":0.035,\"fTickLength\":0.03,\"fTitleOffset\":1,\"fTitleSize\":0.035,\"fTitleColor\":1,\"fTitleFont\":42,\"fNbins\":20,\"fXmin\":0,\"fXmax\":500,\"fXbins\":[],\"fFirst\":1,\"fLast\":1,\"fBits2\":0,\"fTimeDisplay\":false,\"fTimeFormat\":\"\",\"fLabels\":null,\"fModLabs\":null},\"fYaxis\":{\"_typename\":\"TAxis\",\"fUniqueID\":0,\"fBits\":50331648,\"fName\":\"yaxis\",\"fTitle\":\"\",\"fNdivisions\":510,\"fAxisColor\":1,\"fLabelColor\":1,\"fLabelFont\":42,\"fLabelOffset\":0.005,\"fLabelSize\":0.035,\"fTickLength\":0.03,\"fTitleOffset\":0,\"fTitleSize\":0.035,\"fTitleColor\":1,\"fTitleFont\":42,\"fNbins\":1,\"fXmin\":0,\"fXmax\":1,\"fXbins\":[],\"fFirst\":0,\"fLast\":0,\"fBits2\":0,\"fTimeDisplay\":false,\"fTimeFormat\":\"\",\"fLabels\":null,\"fModLabs\":null},\"fZaxis\":{\"_typename\":\"TAxis\",\"fUniqueID\":0,\"fBits\":50331648,\"fName\":\"zaxis\",\"fTitle\":\"\",\"fNdivisions\":510,\"fAxisColor\":1,\"fLabelColor\":1,\"fLabelFont\":42,\"fLabelOffset\":0.005,\"fLabelSize\":0.035,\"fTickLength\":0.03,\"fTitleOffset\":1,\"fTitleSize\":0.035,\"fTitleColor\":1,\"fTitleFont\":42,\"fNbins\":1,\"fXmin\":0,\"fXmax\":1,\"fXbins\":[],\"fFirst\":0,\"fLast\":0,\"fBits2\":0,\"fTimeDisplay\":false,\"fTimeFormat\":\"\",\"fLabels\":null,\"fModLabs\":null},\"fBarOffset\":0,\"fBarWidth\":1000,\"fEntries\":123844,\"fTsumw\":123844,\"fTsumw2\":123844,\"fTsumwx\":6094421.571249,\"fTsumwx2\":391456178.749686,\"fMaximum\":-1111,\"fMinimum\":-1111,\"fNormFactor\":0,\"fContour\":[],\"fSumw2\":[0,0.00205061758032094,0.00349246700878802,0.00131691622247887,9.39886343992395e-5,4.62971119834758e-7,5.56132201089153e-7,0,1.93149115731682e-7,7.28896110976889e-9,3.64922841057881e-9,0,0,0,0,0,0,0,0,0,0,0],\"fOption\":\"\",\"fFunctions\":{\"_typename\":\"TList\",\"name\":\"TList\",\"arr\":[],\"opt\":[]},\"fBufferSize\":0,\"fBuffer\":[],\"fBinStatErrOpt\":0,\"fArray\":[0,5.467854,9.25166,3.542161,0.6717868,0.003797895,0.001488288,0,6.340778e-4,1.207391e-4,6.254849e-5,0,0,0,0,0,0,0,0,0,0,0]},\"fLabel\":\"Higgs\",\"fOption\":\"f\"},{\"_typename\":\"TLegendEntry\",\"fUniqueID\":0,\"fBits\":50331648,\"fTextAngle\":0,\"fTextSize\":0,\"fTextAlign\":0,\"fTextColor\":0,\"fTextFont\":42,\"fLineColor\":416,\"fLineStyle\":1,\"fLineWidth\":1,\"fFillColor\":416,\"fFillStyle\":1001,\"fMarkerColor\":1,\"fMarkerStyle\":21,\"fMarkerSize\":1,\"fObject\":{\"_typename\":\"TH1F\",\"fUniqueID\":0,\"fBits\":50331648,\"fName\":\"hist_mll\",\"fTitle\":\"Invariant mass\",\"fLineColor\":416,\"fLineStyle\":1,\"fLineWidth\":1,\"fFillColor\":416,\"fFillStyle\":1001,\"fMarkerColor\":1,\"fMarkerStyle\":1,\"fMarkerSize\":1,\"fNcells\":22,\"fXaxis\":{\"_typename\":\"TAxis\",\"fUniqueID\":0,\"fBits\":50331648,\"fName\":\"xaxis\",\"fTitle\":\"\",\"fNdivisions\":510,\"fAxisColor\":1,\"fLabelColor\":1,\"fLabelFont\":42,\"fLabelOffset\":0.005,\"fLabelSize\":0.035,\"fTickLength\":0.03,\"fTitleOffset\":1,\"fTitleSize\":0.035,\"fTitleColor\":1,\"fTitleFont\":42,\"fNbins\":20,\"fXmin\":0,\"fXmax\":500,\"fXbins\":[],\"fFirst\":1,\"fLast\":1,\"fBits2\":0,\"fTimeDisplay\":false,\"fTimeFormat\":\"\",\"fLabels\":null,\"fModLabs\":null},\"fYaxis\":{\"_typename\":\"TAxis\",\"fUniqueID\":0,\"fBits\":50331648,\"fName\":\"yaxis\",\"fTitle\":\"\",\"fNdivisions\":510,\"fAxisColor\":1,\"fLabelColor\":1,\"fLabelFont\":42,\"fLabelOffset\":0.005,\"fLabelSize\":0.035,\"fTickLength\":0.03,\"fTitleOffset\":0,\"fTitleSize\":0.035,\"fTitleColor\":1,\"fTitleFont\":42,\"fNbins\":1,\"fXmin\":0,\"fXmax\":1,\"fXbins\":[],\"fFirst\":0,\"fLast\":0,\"fBits2\":0,\"fTimeDisplay\":false,\"fTimeFormat\":\"\",\"fLabels\":null,\"fModLabs\":null},\"fZaxis\":{\"_typename\":\"TAxis\",\"fUniqueID\":0,\"fBits\":50331648,\"fName\":\"zaxis\",\"fTitle\":\"\",\"fNdivisions\":510,\"fAxisColor\":1,\"fLabelColor\":1,\"fLabelFont\":42,\"fLabelOffset\":0.005,\"fLabelSize\":0.035,\"fTickLength\":0.03,\"fTitleOffset\":1,\"fTitleSize\":0.035,\"fTitleColor\":1,\"fTitleFont\":42,\"fNbins\":1,\"fXmin\":0,\"fXmax\":1,\"fXbins\":[],\"fFirst\":0,\"fLast\":0,\"fBits2\":0,\"fTimeDisplay\":false,\"fTimeFormat\":\"\",\"fLabels\":null,\"fModLabs\":null},\"fBarOffset\":0,\"fBarWidth\":1000,\"fEntries\":198152,\"fTsumw\":197920,\"fTsumw2\":197920,\"fTsumwx\":17751474.4766236,\"fTsumwx2\":1854295146.79853,\"fMaximum\":-1111,\"fMinimum\":-1111,\"fNormFactor\":0,\"fContour\":[],\"fSumw2\":[0,0.25682803634191,0.798371568525569,0.849717610543355,6.4958918697313,0.546352491439628,0.25011332607652,0.154714941517222,0.103074051154159,0.0656403904055188,0.0448472479095559,0.034996853597312,0.0259666508640247,0.0169083511917085,0.0125842925132555,0.0100517774627796,0.00741503693860083,0.00584204589958431,0.00430357478110867,0.0032667321748026,0.00246647525246196,0.0134856952752561],\"fOption\":\"\",\"fFunctions\":{\"_typename\":\"TList\",\"name\":\"TList\",\"arr\":[],\"opt\":[]},\"fBufferSize\":0,\"fBuffer\":[],\"fBinStatErrOpt\":0,\"fArray\":[0,33.59818,104.9994,111.2784,960.4629,73.49519,31.86795,19.51853,12.97064,8.263003,5.632337,4.366045,3.253268,2.145417,1.582753,1.285012,0.9461576,0.7523358,0.5501091,0.4141537,0.3165338,1.759785]},\"fLabel\":\"Diboson\",\"fOption\":\"f\"},{\"_typename\":\"TLegendEntry\",\"fUniqueID\":0,\"fBits\":50331648,\"fTextAngle\":0,\"fTextSize\":0,\"fTextAlign\":0,\"fTextColor\":0,\"fTextFont\":42,\"fLineColor\":603,\"fLineStyle\":1,\"fLineWidth\":1,\"fFillColor\":603,\"fFillStyle\":1001,\"fMarkerColor\":1,\"fMarkerStyle\":21,\"fMarkerSize\":1,\"fObject\":{\"_typename\":\"TH1F\",\"fUniqueID\":0,\"fBits\":50331648,\"fName\":\"hist_mll\",\"fTitle\":\"Invariant mass\",\"fLineColor\":603,\"fLineStyle\":1,\"fLineWidth\":1,\"fFillColor\":603,\"fFillStyle\":1001,\"fMarkerColor\":1,\"fMarkerStyle\":1,\"fMarkerSize\":1,\"fNcells\":22,\"fXaxis\":{\"_typename\":\"TAxis\",\"fUniqueID\":0,\"fBits\":50331648,\"fName\":\"xaxis\",\"fTitle\":\"\",\"fNdivisions\":510,\"fAxisColor\":1,\"fLabelColor\":1,\"fLabelFont\":42,\"fLabelOffset\":0.005,\"fLabelSize\":0.035,\"fTickLength\":0.03,\"fTitleOffset\":1,\"fTitleSize\":0.035,\"fTitleColor\":1,\"fTitleFont\":42,\"fNbins\":20,\"fXmin\":0,\"fXmax\":500,\"fXbins\":[],\"fFirst\":1,\"fLast\":1,\"fBits2\":0,\"fTimeDisplay\":false,\"fTimeFormat\":\"\",\"fLabels\":null,\"fModLabs\":null},\"fYaxis\":{\"_typename\":\"TAxis\",\"fUniqueID\":0,\"fBits\":50331648,\"fName\":\"yaxis\",\"fTitle\":\"\",\"fNdivisions\":510,\"fAxisColor\":1,\"fLabelColor\":1,\"fLabelFont\":42,\"fLabelOffset\":0.005,\"fLabelSize\":0.035,\"fTickLength\":0.03,\"fTitleOffset\":0,\"fTitleSize\":0.035,\"fTitleColor\":1,\"fTitleFont\":42,\"fNbins\":1,\"fXmin\":0,\"fXmax\":1,\"fXbins\":[],\"fFirst\":0,\"fLast\":0,\"fBits2\":0,\"fTimeDisplay\":false,\"fTimeFormat\":\"\",\"fLabels\":null,\"fModLabs\":null},\"fZaxis\":{\"_typename\":\"TAxis\",\"fUniqueID\":0,\"fBits\":50331648,\"fName\":\"zaxis\",\"fTitle\":\"\",\"fNdivisions\":510,\"fAxisColor\":1,\"fLabelColor\":1,\"fLabelFont\":42,\"fLabelOffset\":0.005,\"fLabelSize\":0.035,\"fTickLength\":0.03,\"fTitleOffset\":1,\"fTitleSize\":0.035,\"fTitleColor\":1,\"fTitleFont\":42,\"fNbins\":1,\"fXmin\":0,\"fXmax\":1,\"fXbins\":[],\"fFirst\":0,\"fLast\":0,\"fBits2\":0,\"fTimeDisplay\":false,\"fTimeFormat\":\"\",\"fLabels\":null,\"fModLabs\":null},\"fBarOffset\":0,\"fBarWidth\":1000,\"fEntries\":78868,\"fTsumw\":78857,\"fTsumw2\":78857,\"fTsumwx\":3801116.54702464,\"fTsumwx2\":264633604.814729,\"fMaximum\":-1111,\"fMinimum\":-1111,\"fNormFactor\":0,\"fContour\":[],\"fSumw2\":[0,1205.17985756735,3006.2097638,1074.53352534754,368.690399562934,162.266580870549,66.4345433568838,29.2750275190684,18.1282053227729,8.99353657799237,4.37500510827231,3.98969614317077,1.72727490770712,1.06753846885357,0.972711981592876,0.945114130877732,0.472923285001431,0.241799605404487,0.263567732950652,0.25273874667984,0.483599210808973,1.41753958858269],\"fOption\":\"\",\"fFunctions\":{\"_typename\":\"TList\",\"name\":\"TList\",\"arr\":[],\"opt\":[]},\"fBufferSize\":0,\"fBuffer\":[],\"fBinStatErrOpt\":0,\"fArray\":[0,2759.953,7249.28,2687.255,921.9521,403.0367,168.6134,77.83804,44.66456,23.13276,11.76261,8.889149,4.579708,2.779411,2.500319,2.152291,1.109283,0.5954506,0.7941358,0.7000409,1.190901,3.21695]},\"fLabel\":\"Wjets\",\"fOption\":\"f\"},{\"_typename\":\"TLegendEntry\",\"fUniqueID\":0,\"fBits\":50331648,\"fTextAngle\":0,\"fTextSize\":0,\"fTextAlign\":0,\"fTextColor\":0,\"fTextFont\":42,\"fLineColor\":801,\"fLineStyle\":1,\"fLineWidth\":1,\"fFillColor\":801,\"fFillStyle\":1001,\"fMarkerColor\":1,\"fMarkerStyle\":21,\"fMarkerSize\":1,\"fObject\":{\"_typename\":\"TH1F\",\"fUniqueID\":0,\"fBits\":50331648,\"fName\":\"hist_mll\",\"fTitle\":\"Invariant mass\",\"fLineColor\":801,\"fLineStyle\":1,\"fLineWidth\":1,\"fFillColor\":801,\"fFillStyle\":1001,\"fMarkerColor\":1,\"fMarkerStyle\":1,\"fMarkerSize\":1,\"fNcells\":22,\"fXaxis\":{\"_typename\":\"TAxis\",\"fUniqueID\":0,\"fBits\":50331648,\"fName\":\"xaxis\",\"fTitle\":\"\",\"fNdivisions\":510,\"fAxisColor\":1,\"fLabelColor\":1,\"fLabelFont\":42,\"fLabelOffset\":0.005,\"fLabelSize\":0.035,\"fTickLength\":0.03,\"fTitleOffset\":1,\"fTitleSize\":0.035,\"fTitleColor\":1,\"fTitleFont\":42,\"fNbins\":20,\"fXmin\":0,\"fXmax\":500,\"fXbins\":[],\"fFirst\":1,\"fLast\":1,\"fBits2\":0,\"fTimeDisplay\":false,\"fTimeFormat\":\"\",\"fLabels\":null,\"fModLabs\":null},\"fYaxis\":{\"_typename\":\"TAxis\",\"fUniqueID\":0,\"fBits\":50331648,\"fName\":\"yaxis\",\"fTitle\":\"\",\"fNdivisions\":510,\"fAxisColor\":1,\"fLabelColor\":1,\"fLabelFont\":42,\"fLabelOffset\":0.005,\"fLabelSize\":0.035,\"fTickLength\":0.03,\"fTitleOffset\":0,\"fTitleSize\":0.035,\"fTitleColor\":1,\"fTitleFont\":42,\"fNbins\":1,\"fXmin\":0,\"fXmax\":1,\"fXbins\":[],\"fFirst\":0,\"fLast\":0,\"fBits2\":0,\"fTimeDisplay\":false,\"fTimeFormat\":\"\",\"fLabels\":null,\"fModLabs\":null},\"fZaxis\":{\"_typename\":\"TAxis\",\"fUniqueID\":0,\"fBits\":50331648,\"fName\":\"zaxis\",\"fTitle\":\"\",\"fNdivisions\":510,\"fAxisColor\":1,\"fLabelColor\":1,\"fLabelFont\":42,\"fLabelOffset\":0.005,\"fLabelSize\":0.035,\"fTickLength\":0.03,\"fTitleOffset\":1,\"fTitleSize\":0.035,\"fTitleColor\":1,\"fTitleFont\":42,\"fNbins\":1,\"fXmin\":0,\"fXmax\":1,\"fXbins\":[],\"fFirst\":0,\"fLast\":0,\"fBits2\":0,\"fTimeDisplay\":false,\"fTimeFormat\":\"\",\"fLabels\":null,\"fModLabs\":null},\"fBarOffset\":0,\"fBarWidth\":1000,\"fEntries\":1703545,\"fTsumw\":1703545,\"fTsumw2\":1703545,\"fTsumwx\":34734152.85597,\"fTsumwx2\":865323280.381752,\"fMaximum\":-1111,\"fMinimum\":-1111,\"fNormFactor\":0,\"fContour\":[],\"fSumw2\":[0,400.634426955547,209.319841977813,0.142447774469877,0.0602580863313313,0.0184511811539161,0.00907523384954067,0.00456289301711551,0.00189512855400631,0.00147864721843053,0.0014872804923923,0.00102027363524697,0,0,0,0,0,0,3.99250172880145e-4,0,0,0],\"fOption\":\"\",\"fFunctions\":{\"_typename\":\"TList\",\"name\":\"TList\",\"arr\":[],\"opt\":[]},\"fBufferSize\":0,\"fBuffer\":[],\"fBinStatErrOpt\":0,\"fArray\":[0,21306.1,10899.76,7.160957,2.966479,0.8955895,0.4663311,0.2338283,0.09727251,0.07684465,0.07707726,0.05532469,0,0,0,0,0,0,0.01998125,0,0,0]},\"fLabel\":\"DY\",\"fOption\":\"f\"},{\"_typename\":\"TLegendEntry\",\"fUniqueID\":0,\"fBits\":50331648,\"fTextAngle\":0,\"fTextSize\":0,\"fTextAlign\":0,\"fTextColor\":0,\"fTextFont\":42,\"fLineColor\":593,\"fLineStyle\":1,\"fLineWidth\":1,\"fFillColor\":593,\"fFillStyle\":1001,\"fMarkerColor\":1,\"fMarkerStyle\":21,\"fMarkerSize\":1,\"fObject\":{\"_typename\":\"TH1F\",\"fUniqueID\":0,\"fBits\":50331648,\"fName\":\"hist_mll\",\"fTitle\":\"Invariant mass\",\"fLineColor\":593,\"fLineStyle\":1,\"fLineWidth\":1,\"fFillColor\":593,\"fFillStyle\":1001,\"fMarkerColor\":1,\"fMarkerStyle\":1,\"fMarkerSize\":1,\"fNcells\":22,\"fXaxis\":{\"_typename\":\"TAxis\",\"fUniqueID\":0,\"fBits\":50331648,\"fName\":\"xaxis\",\"fTitle\":\"\",\"fNdivisions\":510,\"fAxisColor\":1,\"fLabelColor\":1,\"fLabelFont\":42,\"fLabelOffset\":0.005,\"fLabelSize\":0.035,\"fTickLength\":0.03,\"fTitleOffset\":1,\"fTitleSize\":0.035,\"fTitleColor\":1,\"fTitleFont\":42,\"fNbins\":20,\"fXmin\":0,\"fXmax\":500,\"fXbins\":[],\"fFirst\":1,\"fLast\":1,\"fBits2\":0,\"fTimeDisplay\":false,\"fTimeFormat\":\"\",\"fLabels\":null,\"fModLabs\":null},\"fYaxis\":{\"_typename\":\"TAxis\",\"fUniqueID\":0,\"fBits\":50331648,\"fName\":\"yaxis\",\"fTitle\":\"\",\"fNdivisions\":510,\"fAxisColor\":1,\"fLabelColor\":1,\"fLabelFont\":42,\"fLabelOffset\":0.005,\"fLabelSize\":0.035,\"fTickLength\":0.03,\"fTitleOffset\":0,\"fTitleSize\":0.035,\"fTitleColor\":1,\"fTitleFont\":42,\"fNbins\":1,\"fXmin\":0,\"fXmax\":1,\"fXbins\":[],\"fFirst\":0,\"fLast\":0,\"fBits2\":0,\"fTimeDisplay\":false,\"fTimeFormat\":\"\",\"fLabels\":null,\"fModLabs\":null},\"fZaxis\":{\"_typename\":\"TAxis\",\"fUniqueID\":0,\"fBits\":50331648,\"fName\":\"zaxis\",\"fTitle\":\"\",\"fNdivisions\":510,\"fAxisColor\":1,\"fLabelColor\":1,\"fLabelFont\":42,\"fLabelOffset\":0.005,\"fLabelSize\":0.035,\"fTickLength\":0.03,\"fTitleOffset\":1,\"fTitleSize\":0.035,\"fTitleColor\":1,\"fTitleFont\":42,\"fNbins\":1,\"fXmin\":0,\"fXmax\":1,\"fXbins\":[],\"fFirst\":0,\"fLast\":0,\"fBits2\":0,\"fTimeDisplay\":false,\"fTimeFormat\":\"\",\"fLabels\":null,\"fModLabs\":null},\"fBarOffset\":0,\"fBarWidth\":1000,\"fEntries\":19038,\"fTsumw\":19015,\"fTsumw2\":19015,\"fTsumwx\":1440706.22665057,\"fTsumwx2\":171523281.575025,\"fMaximum\":-1111,\"fMinimum\":-1111,\"fNormFactor\":0,\"fContour\":[],\"fSumw2\":[0,0.480689810597937,1.34851201243876,1.3239481532212,0.992351501027419,0.662914429784716,0.431667984777454,0.304501215078199,0.21574914125963,0.127579476807453,0.073265384058994,0.0498296939508038,0.0373692241924008,0.0274040977410939,0.0288988667087899,0.0134529207092643,0.0114598954190029,0.00647733219334947,0.00647733219334947,0.00249128161282672,0.00149476896769603,0.0104635665630065],\"fOption\":\"\",\"fFunctions\":{\"_typename\":\"TList\",\"name\":\"TList\",\"arr\":[],\"opt\":[]},\"fBufferSize\":0,\"fBuffer\":[],\"fBinStatErrOpt\":0,\"fArray\":[0,22.73443,66.56257,63.43861,45.76962,29.90166,19.38581,13.65962,9.667596,5.724379,3.288999,2.234181,1.674124,1.227691,1.294656,0.6026847,0.5133981,0.2901815,0.2901815,0.1116083,0.06696497,0.469361]},\"fLabel\":\"singleTop\",\"fOption\":\"f\"},{\"_typename\":\"TLegendEntry\",\"fUniqueID\":0,\"fBits\":50331648,\"fTextAngle\":0,\"fTextSize\":0,\"fTextAlign\":0,\"fTextColor\":0,\"fTextFont\":42,\"fLineColor\":632,\"fLineStyle\":1,\"fLineWidth\":1,\"fFillColor\":632,\"fFillStyle\":1001,\"fMarkerColor\":1,\"fMarkerStyle\":21,\"fMarkerSize\":1,\"fObject\":{\"_typename\":\"TH1F\",\"fUniqueID\":0,\"fBits\":50331648,\"fName\":\"hist_mll\",\"fTitle\":\"Invariant mass\",\"fLineColor\":632,\"fLineStyle\":1,\"fLineWidth\":1,\"fFillColor\":632,\"fFillStyle\":1001,\"fMarkerColor\":1,\"fMarkerStyle\":1,\"fMarkerSize\":1,\"fNcells\":22,\"fXaxis\":{\"_typename\":\"TAxis\",\"fUniqueID\":0,\"fBits\":50331648,\"fName\":\"xaxis\",\"fTitle\":\"\",\"fNdivisions\":510,\"fAxisColor\":1,\"fLabelColor\":1,\"fLabelFont\":42,\"fLabelOffset\":0.005,\"fLabelSize\":0.035,\"fTickLength\":0.03,\"fTitleOffset\":1,\"fTitleSize\":0.035,\"fTitleColor\":1,\"fTitleFont\":42,\"fNbins\":20,\"fXmin\":0,\"fXmax\":500,\"fXbins\":[],\"fFirst\":1,\"fLast\":1,\"fBits2\":0,\"fTimeDisplay\":false,\"fTimeFormat\":\"\",\"fLabels\":null,\"fModLabs\":null},\"fYaxis\":{\"_typename\":\"TAxis\",\"fUniqueID\":0,\"fBits\":50331648,\"fName\":\"yaxis\",\"fTitle\":\"\",\"fNdivisions\":510,\"fAxisColor\":1,\"fLabelColor\":1,\"fLabelFont\":42,\"fLabelOffset\":0.005,\"fLabelSize\":0.035,\"fTickLength\":0.03,\"fTitleOffset\":0,\"fTitleSize\":0.035,\"fTitleColor\":1,\"fTitleFont\":42,\"fNbins\":1,\"fXmin\":0,\"fXmax\":1,\"fXbins\":[],\"fFirst\":0,\"fLast\":0,\"fBits2\":0,\"fTimeDisplay\":false,\"fTimeFormat\":\"\",\"fLabels\":null,\"fModLabs\":null},\"fZaxis\":{\"_typename\":\"TAxis\",\"fUniqueID\":0,\"fBits\":50331648,\"fName\":\"zaxis\",\"fTitle\":\"\",\"fNdivisions\":510,\"fAxisColor\":1,\"fLabelColor\":1,\"fLabelFont\":42,\"fLabelOffset\":0.005,\"fLabelSize\":0.035,\"fTickLength\":0.03,\"fTitleOffset\":1,\"fTitleSize\":0.035,\"fTitleColor\":1,\"fTitleFont\":42,\"fNbins\":1,\"fXmin\":0,\"fXmax\":1,\"fXbins\":[],\"fFirst\":0,\"fLast\":0,\"fBits2\":0,\"fTimeDisplay\":false,\"fTimeFormat\":\"\",\"fLabels\":null,\"fModLabs\":null},\"fBarOffset\":0,\"fBarWidth\":1000,\"fEntries\":125131,\"fTsumw\":124993,\"fTsumw2\":124993,\"fTsumwx\":10639270.4120269,\"fTsumwx2\":1391736422.61831,\"fMaximum\":-1111,\"fMinimum\":-1111,\"fNormFactor\":0,\"fContour\":[],\"fSumw2\":[0,0.136150584120198,0.265839520746006,0.227970480573641,0.147644982638731,0.0946666471015308,0.0628814267076905,0.0414313634734147,0.0260775838103723,0.0176085015245095,0.0116684662462844,0.00738347896542737,0.00529010775414448,0.00335543977548593,0.00264505387707224,0.00179863663640912,0.00112603722195361,0.0010806934412038,6.34812930497338e-4,5.36568072206083e-4,3.70307542790114e-4,0.00104290695724563],\"fOption\":\"\",\"fFunctions\":{\"_typename\":\"TList\",\"name\":\"TList\",\"arr\":[],\"opt\":[]},\"fBufferSize\":0,\"fBuffer\":[],\"fBinStatErrOpt\":0,\"fArray\":[0,31.8439,87.01159,79.64521,52.54932,33.77975,22.6808,14.9167,9.408806,6.405295,4.244539,2.685826,1.924338,1.22058,0.9621688,0.6542748,0.409609,0.3931147,0.2309205,0.1951828,0.1347036,0.3793694]},\"fLabel\":\"ttbar\",\"fOption\":\"f\"},{\"_typename\":\"TLegendEntry\",\"fUniqueID\":0,\"fBits\":50331648,\"fTextAngle\":0,\"fTextSize\":0,\"fTextAlign\":0,\"fTextColor\":0,\"fTextFont\":42,\"fLineColor\":400,\"fLineStyle\":1,\"fLineWidth\":1,\"fFillColor\":400,\"fFillStyle\":1001,\"fMarkerColor\":1,\"fMarkerStyle\":21,\"fMarkerSize\":1,\"fObject\":{\"_typename\":\"TH1F\",\"fUniqueID\":0,\"fBits\":50331648,\"fName\":\"hist_mll\",\"fTitle\":\"Invariant mass\",\"fLineColor\":400,\"fLineStyle\":1,\"fLineWidth\":1,\"fFillColor\":400,\"fFillStyle\":1001,\"fMarkerColor\":1,\"fMarkerStyle\":1,\"fMarkerSize\":1,\"fNcells\":22,\"fXaxis\":{\"_typename\":\"TAxis\",\"fUniqueID\":0,\"fBits\":50331648,\"fName\":\"xaxis\",\"fTitle\":\"\",\"fNdivisions\":510,\"fAxisColor\":1,\"fLabelColor\":1,\"fLabelFont\":42,\"fLabelOffset\":0.005,\"fLabelSize\":0.035,\"fTickLength\":0.03,\"fTitleOffset\":1,\"fTitleSize\":0.035,\"fTitleColor\":1,\"fTitleFont\":42,\"fNbins\":20,\"fXmin\":0,\"fXmax\":500,\"fXbins\":[],\"fFirst\":1,\"fLast\":1,\"fBits2\":0,\"fTimeDisplay\":false,\"fTimeFormat\":\"\",\"fLabels\":null,\"fModLabs\":null},\"fYaxis\":{\"_typename\":\"TAxis\",\"fUniqueID\":0,\"fBits\":50331648,\"fName\":\"yaxis\",\"fTitle\":\"\",\"fNdivisions\":510,\"fAxisColor\":1,\"fLabelColor\":1,\"fLabelFont\":42,\"fLabelOffset\":0.005,\"fLabelSize\":0.035,\"fTickLength\":0.03,\"fTitleOffset\":0,\"fTitleSize\":0.035,\"fTitleColor\":1,\"fTitleFont\":42,\"fNbins\":1,\"fXmin\":0,\"fXmax\":1,\"fXbins\":[],\"fFirst\":0,\"fLast\":0,\"fBits2\":0,\"fTimeDisplay\":false,\"fTimeFormat\":\"\",\"fLabels\":null,\"fModLabs\":null},\"fZaxis\":{\"_typename\":\"TAxis\",\"fUniqueID\":0,\"fBits\":50331648,\"fName\":\"zaxis\",\"fTitle\":\"\",\"fNdivisions\":510,\"fAxisColor\":1,\"fLabelColor\":1,\"fLabelFont\":42,\"fLabelOffset\":0.005,\"fLabelSize\":0.035,\"fTickLength\":0.03,\"fTitleOffset\":1,\"fTitleSize\":0.035,\"fTitleColor\":1,\"fTitleFont\":42,\"fNbins\":1,\"fXmin\":0,\"fXmax\":1,\"fXbins\":[],\"fFirst\":0,\"fLast\":0,\"fBits2\":0,\"fTimeDisplay\":false,\"fTimeFormat\":\"\",\"fLabels\":null,\"fModLabs\":null},\"fBarOffset\":0,\"fBarWidth\":1000,\"fEntries\":9078950,\"fTsumw\":9078162,\"fTsumw2\":9078162,\"fTsumwx\":804746612.863798,\"fTsumwx2\":73374075469.6277,\"fMaximum\":-1111,\"fMinimum\":-1111,\"fNormFactor\":0,\"fContour\":[],\"fSumw2\":[0,14.75758319996,331.308972626614,347.161807061273,2895.48522684347,102.723674001799,18.74733963188,7.89842308536267,4.12430493076298,2.41216138644921,1.4628351036498,0.964263042634049,0.699144102734999,0.445193077827327,0.32762069537169,0.22752543267078,0.190113124902945,0.156973265256886,0.117214768507342,0.0676563082313123,0.0733120984171759,0.327739662741685],\"fOption\":\"\",\"fFunctions\":{\"_typename\":\"TList\",\"name\":\"TList\",\"arr\":[],\"opt\":[]},\"fBufferSize\":0,\"fBuffer\":[],\"fBinStatErrOpt\":0,\"fArray\":[0,237.7507,6361.051,10586.24,144431.3,5147.538,912.3405,378.0974,197.7268,114.2114,70.69515,46.0644,31.93138,21.60691,15.7288,11.35458,8.761152,7.707296,5.717976,3.400603,3.366125,15.06558]},\"fLabel\":\"Zjets\",\"fOption\":\"f\"}],\"opt\":[\"f\",\"f\",\"f\",\"f\",\"f\",\"f\",\"f\"]},\"fEntrySeparation\":0.1,\"fMargin\":0.25,\"fNColumns\":1,\"fColumnSeparation\":0}],\"opt\":[\"\",\"hist\",\"\"]},\"fExecs\":null,\"fName\":\"c\",\"fTitle\":\"c\",\"fNumPaletteColor\":0,\"fNextPaletteColor\":0,\"fDISPLAY\":\"$DISPLAY\",\"fDoubleBuffer\":0,\"fRetained\":true,\"fXsizeUser\":0,\"fYsizeUser\":0,\"fXsizeReal\":20,\"fYsizeReal\":20,\"fWindowTopX\":0,\"fWindowTopY\":0,\"fWindowWidth\":0,\"fWindowHeight\":0,\"fCw\":596,\"fCh\":572,\"fCatt\":{\"_typename\":\"TAttCanvas\",\"fXBetween\":2,\"fYBetween\":2,\"fTitleFromTop\":1.2,\"fXdate\":0.2,\"fYdate\":0.3,\"fAdate\":1},\"kMoveOpaque\":true,\"kResizeOpaque\":true,\"fHighLightColor\":2,\"fBatch\":true,\"kShowEventStatus\":false,\"kAutoExec\":true,\"kMenuBar\":true});\n",
       "       Core.draw(\"root_plot_2\", obj, \"\");\n",
       "     }\n",
       " );\n",
       "</script>\n"
      ],
      "text/plain": [
       "<IPython.core.display.HTML object>"
      ]
     },
     "metadata": {},
     "output_type": "display_data"
    }
   ],
   "source": [
    "stack_met->Draw(\"hist\"); \n",
    "stack_met->GetYaxis()->SetTitle(\"# events\");\n",
    "stack_met->GetYaxis()->SetTitleOffset(1.3); \n",
    "stack_met->GetXaxis()->SetTitle(\"E_{T}^{miss} (GeV)\");\n",
    "stack_met->GetXaxis()->SetTitleOffset(1.3);\n",
    "leg->Draw();\n",
    "C->Draw(); "
   ]
  },
  {
   "cell_type": "markdown",
   "metadata": {},
   "source": [
    "## 5. Further steps\n",
    "Here are some further steps necessary to do a proper analysis. "
   ]
  },
  {
   "cell_type": "markdown",
   "metadata": {},
   "source": [
    "### 5.1 MC weights\n",
    "In addition to scaling of the MC samples we also need to \"weight\" each individual event. Various weights can be found as variables in the TTree: \n",
    "> \n",
    "mcWeigth <br>\n",
    "scaleFactor_PILEUP <br>\n",
    "scaleFactor_ELE <br>\n",
    "scaleFactor_MUON <br>\n",
    "scaleFactor_BTAG <br>\n",
    "scaleFactor_TRIGGER <br>\n",
    "scaleFactor_JVFSF <br>\n",
    "scaleFactor_ZVERTEX <br>\n",
    "\n",
    "These should be multiplied toghether and applied when filling the histograms, e.g. something like this: \n",
    "> \n",
    "*histogram->Fill(variable, weight);* "
   ]
  },
  {
   "cell_type": "markdown",
   "metadata": {},
   "source": [
    "### 5.2 Add data\n",
    "A very important part of the analysis is of course to also add the real data. This is however slightly less complicated than the background, since you only need one histogram per variable. (We don't know which processes the real data events come from, so we can't classify them like we did for the MC background.) For the data we do however need a certain \"quality control\" that we don't need for the MC. Variables typically related to this are <br>\n",
    ">trigE <br>\n",
    "trigM <br>\n",
    "passGRL <br>\n",
    "hasGoodVertex <br> \n",
    "\n",
    "\n",
    "These are all binary variables (true (1) or false (0)). The two first ones indicate if the event was triggered by electron or muon triggers. We only want triggered events, so we should require one of these to be true. The last two variables indicates if the event (or run) is on the Good Runs List (GRL) and if the event has a good vertex (i.e. a vertex where particles originate from the same point). The GRL indicates whether or not ATLAS and the LHC was operating properly at the time the event was recorded. Both of these variables need to be true. <br>\n",
    "<br>\n",
    "The data should be plottet togehter with the MC background. If the MC weighting and scaling is done correctly the data and MC should match quite good, given that there are no \"new physics\" in the data. "
   ]
  },
  {
   "cell_type": "markdown",
   "metadata": {},
   "source": [
    "### 5.3 Add signal samples\n",
    "We also need to study simulations of the signal (process) we are looking for. This is important in order to know how the signal process behaves for different variables, and hence know which part(s) of the parameter space we should study. Typically we don't know exactly how the signal would look like, since the masses of new particles (e.g. Z', W', graviton or sparticles) are unknown. Therefore we usually have several signal samples for a variety of different scenarios. \n",
    "These samples should be treated in a somewhat similar way as the MC background (weights and scale factors). "
   ]
  },
  {
   "cell_type": "markdown",
   "metadata": {},
   "source": [
    "### 5.4 Introduce further cuts (signal regions)\n",
    "The cuts introduced in the loop above are merely a first selection of events, and we would never be able to see anything interesting with these cuts only (except checking that data and MC agree). Therefore we need to add more cuts. A cut is usually defined as a requirement on a variable. Examples of such cuts could be:\n",
    "> \n",
    "$80>m_{\\ell\\ell}>100\\:GeV$ (cut away the Z-peak) <br>\n",
    "<br>\n",
    "$E_T^{miss}>150\\:GeV$ (require high missing energy) \n",
    "\n",
    "A set of cuts that make us sensitive to a signal process is called a **signal region**. A lot of effort is usually spent on optimizing such regions, in order to be as sensitive as possible to to the signal, so that we can either discover or exclude the signal process.   "
   ]
  },
  {
   "cell_type": "code",
   "execution_count": null,
   "metadata": {},
   "outputs": [],
   "source": []
  }
 ],
 "metadata": {
  "kernelspec": {
   "display_name": "ROOT C++",
   "language": "c++",
   "name": "root"
  },
  "language_info": {
   "codemirror_mode": "text/x-c++src",
   "file_extension": ".C",
   "mimetype": " text/x-c++src",
   "name": "c++"
  }
 },
 "nbformat": 4,
 "nbformat_minor": 2
}
