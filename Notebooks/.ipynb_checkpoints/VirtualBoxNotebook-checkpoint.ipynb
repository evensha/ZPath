{
 "cells": [
  {
   "cell_type": "markdown",
   "metadata": {},
   "source": [
    "## Notebook example in virtual box"
   ]
  },
  {
   "cell_type": "markdown",
   "metadata": {},
   "source": [
    "This notebook intends to show how you can access and run over ATLAS Open Data in a notebook, when running a virtual machine with CERN CentOS 7. When you are inside the virtual machine open a terminal and run _jupyter notebook_. The notebook will then open. Then clic the \"New\" button, and choose \"ROOT C++\". "
   ]
  },
  {
   "cell_type": "markdown",
   "metadata": {},
   "source": [
    "Here follows a short example of how to read ATLAS Open Data and make a simple plot. This example only includes real data. See other notebooks for exmples with Monte Carlo background as well.  "
   ]
  },
  {
   "cell_type": "code",
   "execution_count": 1,
   "metadata": {},
   "outputs": [],
   "source": [
    "TChain *data = new TChain(\"mini\"); // make a TChain"
   ]
  },
  {
   "cell_type": "code",
   "execution_count": 2,
   "metadata": {},
   "outputs": [],
   "source": [
    "data->Add(\"http://opendata.atlas.cern/release/samples/Data/DataEgamma.root\"); // Add data samples to the TChain\n",
    "data->Add(\"http://opendata.atlas.cern/release/samples/Data/DataMuons.root\");"
   ]
  },
  {
   "cell_type": "code",
   "execution_count": 3,
   "metadata": {},
   "outputs": [],
   "source": [
    "Int_t lep_n, lep_charge[2], lep_type[2]; \n",
    "Float_t lep_pt[2], lep_E[2], lep_phi[2], lep_eta[2];  \n",
    "Bool_t passGRL, hasGoodVertex; \n",
    "Float_t lep_etcone20[2], lep_ptcone30[2]; \n",
    "Int_t lep_flag[2]; "
   ]
  },
  {
   "cell_type": "code",
   "execution_count": 4,
   "metadata": {},
   "outputs": [],
   "source": [
    "data->SetBranchAddress(\"lep_n\",      &lep_n);\n",
    "data->SetBranchAddress(\"lep_charge\", &lep_charge);\n",
    "data->SetBranchAddress(\"lep_type\",   &lep_type);\n",
    "data->SetBranchAddress(\"lep_pt\",     &lep_pt);\n",
    "data->SetBranchAddress(\"lep_eta\",    &lep_eta);\n",
    "data->SetBranchAddress(\"lep_phi\",    &lep_phi);\n",
    "data->SetBranchAddress(\"lep_E\",      &lep_E);\n",
    "data->SetBranchAddress(\"passGRL\", &passGRL); \n",
    "data->SetBranchAddress(\"hasGoodVertex\", &hasGoodVertex); \n",
    "data->SetBranchAddress(\"lep_flag\", &lep_flag); \n",
    "data->SetBranchAddress(\"lep_ptcone30\", &lep_ptcone30); \n",
    "data->SetBranchAddress(\"lep_etcone20\", &lep_etcone20); "
   ]
  },
  {
   "cell_type": "code",
   "execution_count": 7,
   "metadata": {},
   "outputs": [],
   "source": [
    "TLorentzVector dilepton; \n",
    "TLorentzVector l1, l2; "
   ]
  },
  {
   "cell_type": "code",
   "execution_count": 6,
   "metadata": {},
   "outputs": [],
   "source": [
    "TH1F *hist_m = new TH1F(\"hist_m\", \"Invariant mass\", 20, 0, 500); "
   ]
  },
  {
   "cell_type": "code",
   "execution_count": 17,
   "metadata": {},
   "outputs": [],
   "source": [
    "hist_m->Reset(); "
   ]
  },
  {
   "cell_type": "code",
   "execution_count": 18,
   "metadata": {},
   "outputs": [
    {
     "name": "stdout",
     "output_type": "stream",
     "text": [
      "Looping over 14945674 events....\n",
      "1 million events processed\n",
      "2 million events processed\n",
      "3 million events processed\n",
      "4 million events processed\n",
      "5 million events processed\n",
      "6 million events processed\n",
      "7 million events processed\n",
      "8 million events processed\n",
      "9 million events processed\n",
      "10 million events processed\n",
      "11 million events processed\n",
      "12 million events processed\n",
      "13 million events processed\n",
      "14 million events processed\n",
      "Done!\n"
     ]
    }
   ],
   "source": [
    "cout << \"Looping over \" << data->GetEntries() << \" events....\" << endl; \n",
    "for(int i = 0; i < data->GetEntries(); i++){\n",
    "    \n",
    "    if( i%1000000 == 0 && i>0){ cout << i/1000000 << \" million events processed\" << endl;}\n",
    "    if(!(i%100 == 0)){ continue; }  // Only keep 1 in 1000 events (for testing purposes) \n",
    "    \n",
    "    data->GetEntry(i);     \n",
    "\n",
    "    // Data quality cuts: \n",
    "\n",
    "    if(passGRL == 0){ continue; } \n",
    "    if(hasGoodVertex == 0){ continue; }\n",
    "    //if(trigM == 0 && trigE == 0){ continue; } \n",
    "\n",
    "    // Require \"good leptons\": \n",
    "    \n",
    "    if( lep_pt[0]/1000.0 < 25 ){ continue; }\n",
    "    if( lep_etcone20[0]/lep_pt[0] > 0.15 ){ continue; }\n",
    "    if( lep_ptcone30[0]/lep_pt[0] > 0.15 ){ continue; }\n",
    "    if( !(lep_flag[0] & 512) ){ continue; }\n",
    "\n",
    "    if( lep_pt[1]/1000.0 < 25 ){ continue; }\n",
    "    if( lep_etcone20[1]/lep_pt[1] > 0.15 ){ continue; }\n",
    "    if( lep_ptcone30[1]/lep_pt[1] > 0.15 ){ continue; }\n",
    "    if( !(lep_flag[1] & 512) ){ continue; }\n",
    "    \n",
    "    // Event selection: \n",
    "\n",
    "    // Cut #1: Require (exactly) 2 leptons\n",
    "    if(lep_n != 2){ continue; }\n",
    "    // Cut #2: Require opposite charge\n",
    "    if(lep_charge[0] == lep_charge[1]){ continue; }\n",
    "    // Cut #3: Require same flavour (2 electrons or 2 muons)\n",
    "    if(lep_type[0] != lep_type[1]){ continue; }\n",
    "\n",
    "    // Set Lorentz vectors: \n",
    "    l1.SetPtEtaPhiE(lep_pt[0]/1000., lep_eta[0], lep_phi[0], lep_E[0]/1000.);\n",
    "    l2.SetPtEtaPhiE(lep_pt[1]/1000., lep_eta[1], lep_phi[1], lep_E[1]/1000.);\n",
    "    // Variables are stored in the TTree with unit MeV, so we need to divide by 1000 \n",
    "    // to get GeV, which is a more practical and commonly used unit. \n",
    "\n",
    "    dilepton = l1 + l2;       \n",
    " \n",
    "    hist_m->Fill(dilepton.M()); \n",
    "\n",
    "}\n",
    "cout << \"Done!\" << endl; "
   ]
  },
  {
   "cell_type": "code",
   "execution_count": 20,
   "metadata": {},
   "outputs": [],
   "source": [
    "gPad->SetLogy();"
   ]
  },
  {
   "cell_type": "code",
   "execution_count": 33,
   "metadata": {},
   "outputs": [],
   "source": [
    "hist_m->SetFillColor(kBlue); \n",
    "hist_m->GetYaxis()->SetTitle(\"# events\");\n",
    "hist_m->GetYaxis()->SetTitleOffset(1.3); \n",
    "hist_m->GetXaxis()->SetTitle(\"m_{ll} (GeV)\");\n",
    "hist_m->GetXaxis()->SetTitleOffset(1.3);"
   ]
  },
  {
   "cell_type": "code",
   "execution_count": null,
   "metadata": {},
   "outputs": [],
   "source": [
    "TCanvas *c = new TCanvas(\"c\", \"c\", 10, 10, 700, 700); "
   ]
  },
  {
   "cell_type": "code",
   "execution_count": 34,
   "metadata": {},
   "outputs": [
    {
     "data": {
      "image/png": "[encoded data removed]",
      "text/plain": [
       "<IPython.core.display.Image object>"
      ]
     },
     "metadata": {},
     "output_type": "display_data"
    }
   ],
   "source": [
    "hist_m->Draw(); \n",
    "c->Draw(); "
   ]
  },
  {
   "cell_type": "code",
   "execution_count": null,
   "metadata": {},
   "outputs": [],
   "source": []
  }
 ],
 "metadata": {
  "kernelspec": {
   "display_name": "ROOT C++",
   "language": "c++",
   "name": "root"
  },
  "language_info": {
   "codemirror_mode": "text/x-c++src",
   "file_extension": ".C",
   "mimetype": " text/x-c++src",
   "name": "c++"
  }
 },
 "nbformat": 4,
 "nbformat_minor": 2
}
