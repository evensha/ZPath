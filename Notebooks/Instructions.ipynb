{
 "cells": [
  {
   "cell_type": "markdown",
   "metadata": {},
   "source": [
    "# Instructions\n",
    "\n",
    "Instructions on how to get started with data analysis using Jupyter notebook (with ROOT) and ATLAS Open Data.   "
   ]
  },
  {
   "cell_type": "markdown",
   "metadata": {},
   "source": [
    "### 1. Prerequisites"
   ]
  },
  {
   "cell_type": "markdown",
   "metadata": {},
   "source": [
    "1. **ROOT** (version >= 6.07) <br>\n",
    "If you don't have ROOT it can be downloaded from [this](https://root.cern.ch/downloading-root) page. <br> \n",
    "<br>\n",
    "2. **Python** (version 2.7 or >= 3.3)   \n",
    "<br> \n",
    "3. **Pip**  \n",
    "Pip is a package management system for Python. If you need to install it do   \n",
    "> *sudo apt-get install python-pip* (Ubuntu) <br>\n",
    "> *sudo easy_install pip* (Mac)"
   ]
  },
  {
   "cell_type": "markdown",
   "metadata": {},
   "source": [
    "### 2. Install Jupyter "
   ]
  },
  {
   "cell_type": "markdown",
   "metadata": {},
   "source": [
    "Install Jupyter by doing: \n",
    "> *sudo pip install --upgrade pip* <br>\n",
    "  *sudo pip install jupyter* <br> \n",
    "\n",
    "If you have Python3 write *pip3* instead of *pip*. \n",
    "You should now be able to launch a Jupyter notebook by running <br>\n",
    "\n",
    ">*jupyter notebook* <br>"
   ]
  },
  {
   "cell_type": "markdown",
   "metadata": {},
   "source": [
    "### 3. Creating a ROOT notebook "
   ]
  },
  {
   "cell_type": "markdown",
   "metadata": {},
   "source": [
    "Install necessary dependencies by <br>\n",
    "> *sudo pip install jupyter metakernel zmq* <br> \n",
    "\n",
    "and launch ROOT notebook with <br>\n",
    ">*root --notebook* \n",
    "\n",
    "Click on \"new\", and choose \"ROOT C$++$\". "
   ]
  },
  {
   "cell_type": "markdown",
   "metadata": {},
   "source": [
    "### 4. Download the dataset "
   ]
  },
  {
   "cell_type": "markdown",
   "metadata": {},
   "source": [
    "The complete dataset from ATLAS Open Data can be download by clicking at [this](http://opendata.atlas.cern/release/samples/complete_set_of_ATLAS_open_data_samples_July_2016.zip) link. (For more info you can also visit the [ATLAS Open Data Portal](http://opendata.atlas.cern/).) Notice that the dataset (when unzipped) is about 7 GB, so make sure you have enough space before downloading it.  "
   ]
  },
  {
   "cell_type": "markdown",
   "metadata": {},
   "source": [
    "### 5. Start the analysis!\n"
   ]
  },
  {
   "cell_type": "markdown",
   "metadata": {},
   "source": [
    "You can now read the dataset into your notebook, and start analysing the data. (Note that the analysis can also be done by using a Python notebook with PyROOT, but for running over large amounts of data C$++$ is much faster.)"
   ]
  }
 ],
 "metadata": {
  "kernelspec": {
   "display_name": "ROOT C++",
   "language": "c++",
   "name": "root"
  },
  "language_info": {
   "codemirror_mode": "text/x-c++src",
   "file_extension": ".C",
   "mimetype": " text/x-c++src",
   "name": "c++"
  }
 },
 "nbformat": 4,
 "nbformat_minor": 2
}
