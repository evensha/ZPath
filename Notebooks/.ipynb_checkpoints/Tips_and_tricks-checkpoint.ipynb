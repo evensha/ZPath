{
 "cells": [
  {
   "cell_type": "markdown",
   "metadata": {},
   "source": [
    "# Some tips and tricks for ROOT notebook usage"
   ]
  },
  {
   "cell_type": "markdown",
   "metadata": {},
   "source": [
    "## Keyboard shortcuts \n",
    "There exists a lot of keyboard shortcuts. See for example this page:  \n",
    "> \n",
    "https://www.dataquest.io/blog/jupyter-notebook-tips-tricks-shortcuts/\n",
    "\n",
    "You can also specify your own shortcuts by going to \"Help\" $\\rightarrow$ \"Edit Keyboard Shortcuts\". "
   ]
  },
  {
   "cell_type": "markdown",
   "metadata": {},
   "source": [
    "## Defining variables and objects "
   ]
  },
  {
   "cell_type": "markdown",
   "metadata": {},
   "source": [
    "Make flexibel definitions of objects and variables, i.e. DON'T define a variable like this: "
   ]
  },
  {
   "cell_type": "code",
   "execution_count": 1,
   "metadata": {},
   "outputs": [],
   "source": [
    "int a = 2; "
   ]
  },
  {
   "cell_type": "markdown",
   "metadata": {},
   "source": [
    "Instead do it like this: "
   ]
  },
  {
   "cell_type": "code",
   "execution_count": 3,
   "metadata": {},
   "outputs": [],
   "source": [
    "int b; "
   ]
  },
  {
   "cell_type": "code",
   "execution_count": 4,
   "metadata": {},
   "outputs": [],
   "source": [
    "b = 2; "
   ]
  },
  {
   "cell_type": "markdown",
   "metadata": {},
   "source": [
    "This allows you to change the value of the variable later, without having to restart the kernel. This strategy should also be applied when you are making ROOT histograms. A ROOT histgram can be \n",
    "defined like this: "
   ]
  },
  {
   "cell_type": "code",
   "execution_count": 8,
   "metadata": {},
   "outputs": [],
   "source": [
    "TH1F *h1 = new TH1F(\"h1\", \"h1\", 10, 0, 100); "
   ]
  },
  {
   "cell_type": "markdown",
   "metadata": {},
   "source": [
    "But, again, this doesn't allow you to change name or binning of the histogram later without having to restart the kernel. So instead you should do it like this: "
   ]
  },
  {
   "cell_type": "code",
   "execution_count": 9,
   "metadata": {},
   "outputs": [],
   "source": [
    "TH1F *h2 = new TH1F(); "
   ]
  },
  {
   "cell_type": "code",
   "execution_count": 11,
   "metadata": {},
   "outputs": [],
   "source": [
    "h2->SetNameTitle(\"h2\", \"h2\"); "
   ]
  },
  {
   "cell_type": "code",
   "execution_count": 12,
   "metadata": {},
   "outputs": [],
   "source": [
    "h2->SetBins(10, 0, 100); "
   ]
  },
  {
   "cell_type": "markdown",
   "metadata": {},
   "source": [
    "## Paper on ATLAS Open Data \n",
    "A paper about the ATLAS Open Data dataset can be found [here](https://cds.cern.ch/record/2203649/files/ATL-OREACH-PUB-2016-001.pdf). The paper contains a lot of useful information about the dataset (see in particular the appendix), as well as some analysis examples.  "
   ]
  }
 ],
 "metadata": {
  "kernelspec": {
   "display_name": "ROOT C++",
   "language": "c++",
   "name": "root"
  },
  "language_info": {
   "codemirror_mode": "text/x-c++src",
   "file_extension": ".C",
   "mimetype": " text/x-c++src",
   "name": "c++"
  }
 },
 "nbformat": 4,
 "nbformat_minor": 2
}
